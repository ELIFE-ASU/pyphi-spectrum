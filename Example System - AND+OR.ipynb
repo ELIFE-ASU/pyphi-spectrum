{
 "cells": [
  {
   "cell_type": "code",
   "execution_count": 1,
   "metadata": {},
   "outputs": [
    {
     "name": "stderr",
     "output_type": "stream",
     "text": [
      "\r",
      "Computing concepts:   0%|          | 0/3 [00:00<?, ?it/s]"
     ]
    },
    {
     "name": "stdout",
     "output_type": "stream",
     "text": [
      "Network =  NodeLabels(('A', 'B'))\n"
     ]
    },
    {
     "name": "stderr",
     "output_type": "stream",
     "text": [
      "                                                         "
     ]
    },
    {
     "name": "stdout",
     "output_type": "stream",
     "text": [
      "PyPhi Value =  0.090278\n",
      "\tNumber of Non-unique Constellations = 81\n",
      "\n",
      "Evaluating Cut  Cut [A] ━━/ /━━➤ [B]\n",
      "\tNumber of Non-unique Constellations = 9\n"
     ]
    },
    {
     "name": "stderr",
     "output_type": "stream",
     "text": [
      "\r"
     ]
    },
    {
     "name": "stdout",
     "output_type": "stream",
     "text": [
      "\n",
      "Evaluating Cut  Cut [B] ━━/ /━━➤ [A]\n",
      "\tNumber of Non-unique Constellations = 9\n",
      "\n",
      "Cuts =  [Cut [A] ━━/ /━━➤ [B], Cut [B] ━━/ /━━➤ [A]]\n",
      "\n",
      "Phi Spectrum =  [[0.25, 0.375, 0.3125, 0.305556, 0.430555, 0.368056, 0.277778, 0.402778, 0.340278, 0, 0.125, 0.0625, 0.055556, 0.180556, 0.118056, 0.027778, 0.152778, 0.090278, 0.1875, 0.243055, 0.215278, 0.243056, 0.333333, 0.291666, 0.388889, 0.347222, 0.361111, 0.319444, 0.458333, 0.333334, 0.395833, 0.513889, 0.451389, 0.486111, 0.423611, 0.083333, 0.208333, 0.145834, 0.138889, 0.201389, 0.111111, 0.236111, 0.173611, 0.263889, 0.173612, 0.270833, 0.326389, 0.298611, 0.208334, 0.361112, 0.298612, 0.270834, 0.291667, 0.319445, 0.416667, 0.354167, 0.472222, 0.347223, 0.409722, 0.444445, 0.381945, 0.041667, 0.166667, 0.104167, 0.097222, 0.222223, 0.159723, 0.069445, 0.194445, 0.131944, 0.131945, 0.159722, 0.229167, 0.284723, 0.256944, 0.284722, 0.256945, 0.222222, 0.430556, 0.180555, 0.236112, 0.458334, 0.145833], [0.125, 0.375, 0.25, 0.208333, 0.458333, 0.333334, 0.166667, 0.416667, 0.291667, 0, 0.083333, 0.333333, 0.208334, 0.041667, 0.0625, 0.3125, 0.1875, 0.145834, 0.395833, 0.270833, 0.104167, 0.354167, 0.229167, 0.270834, 0.152778, 0.291666, 0.277778, 0.145833, 0.180556, 0.319444, 0.305556, 0.263889, 0.402778, 0.388889, 0.222222, 0.361111, 0.347222, 0.055556, 0.138889, 0.097222, 0.319445, 0.222223, 0.118056, 0.340278, 0.243055, 0.201389, 0.326389, 0.159723, 0.298611, 0.284722, 0.430555, 0.513889, 0.472222, 0.347223, 0.368056, 0.451389, 0.409722, 0.243056, 0.284723, 0.159722, 0.236111, 0.194445, 0.236112, 0.256945, 0.298612, 0.215278, 0.430556, 0.361112, 0.027778, 0.111111, 0.069445, 0.090278, 0.173611, 0.131945, 0.486111, 0.444445, 0.423611, 0.381945, 0.173612, 0.180555, 0.131944, 0.256944]]\n"
     ]
    }
   ],
   "source": [
    "import pyphi\n",
    "import numpy as np\n",
    "from pyphi import phi_spectrum\n",
    "\n",
    "# Transition probability matrix for a fully connected AND+OR system\n",
    "tpm = np.array([\n",
    "    [0.,0.],\n",
    "    [0.,1.],\n",
    "    [0.,1.],\n",
    "    [1.,1.],\n",
    "])\n",
    "\n",
    "# Set up network object\n",
    "network = pyphi.Network(tpm, node_labels=['A','B'])\n",
    "print(\"Network = \",network.node_labels)\n",
    "\n",
    "# Put the system into a given state\n",
    "state = (0,0)\n",
    "nodes = ['A','B']\n",
    "\n",
    "## Get the requisite Subsystem\n",
    "subsystem = pyphi.Subsystem(network, state, nodes)\n",
    "\n",
    "## What does PyPhi Give? Should be 0.125\n",
    "pyphi_val = pyphi.compute.phi(subsystem)\n",
    "print(\"PyPhi Value = \",pyphi_val)\n",
    "\n",
    "\n",
    "## Calculate all Phi values\n",
    "display_CES= False  # if True, output will display constellations\n",
    "Phi_Spectrum = phi_spectrum.get_phi_spectrum(subsystem,display_CES)\n",
    "\n",
    "print(\"\\nCuts = \",Phi_Spectrum[0])\n",
    "print(\"\\nPhi Spectrum = \",Phi_Spectrum[1])"
   ]
  },
  {
   "cell_type": "code",
   "execution_count": 2,
   "metadata": {},
   "outputs": [
    {
     "name": "stdout",
     "output_type": "stream",
     "text": [
      "Phi MIP =  [0.       0.027778 0.041667 0.055556 0.0625   0.069445 0.083333 0.090278\n",
      " 0.097222 0.104167 0.111111 0.118056 0.125    0.131944 0.131945 0.138889\n",
      " 0.145833 0.145834 0.152778 0.159722 0.159723 0.166667 0.173611 0.173612\n",
      " 0.180555 0.180556 0.1875   0.194445 0.201389 0.208333 0.208334 0.215278\n",
      " 0.222222 0.222223 0.229167 0.236111 0.236112 0.243055 0.243056 0.25\n",
      " 0.256944 0.256945 0.263889 0.270833 0.270834 0.277778 0.284722 0.284723\n",
      " 0.291666 0.291667 0.298611 0.298612 0.305556 0.3125   0.319444 0.319445\n",
      " 0.326389 0.333333 0.333334 0.340278 0.347222 0.347223 0.354167 0.361111\n",
      " 0.361112 0.368056 0.375    0.381945 0.388889 0.395833 0.402778 0.409722\n",
      " 0.416667 0.423611 0.430555 0.430556 0.444445 0.451389 0.458333 0.458334\n",
      " 0.472222 0.486111 0.513889]\n",
      "83\n",
      "Results Saved\n"
     ]
    }
   ],
   "source": [
    "Phi_MIP = phi_spectrum.get_Phi_MIP(Phi_Spectrum)\n",
    "print(\"Phi MIP = \",Phi_MIP)\n",
    "print(len(Phi_MIP))\n",
    "# np.savetxt(\"results/phi_spectrum_AND_OR.csv\", Phi_MIP, delimiter=\",\")\n",
    "# print(\"Results Saved\")"
   ]
  },
  {
   "cell_type": "markdown",
   "metadata": {},
   "source": [
    "#### Find a font that renders the cut correctly"
   ]
  },
  {
   "cell_type": "code",
   "execution_count": 3,
   "metadata": {},
   "outputs": [
    {
     "name": "stdout",
     "output_type": "stream",
     "text": [
      "/Users/jakehanson/.brew/lib/python3.7/site-packages/matplotlib/mpl-data/fonts/ttf/DejaVuSans-Oblique.ttf DejaVu Sans\n",
      "/Users/jakehanson/.brew/lib/python3.7/site-packages/matplotlib/mpl-data/fonts/ttf/DejaVuSans.ttf DejaVu Sans\n",
      "/Users/jakehanson/.brew/lib/python3.7/site-packages/matplotlib/mpl-data/fonts/ttf/DejaVuSansMono.ttf DejaVu Sans Mono\n",
      "/Users/jakehanson/.brew/lib/python3.7/site-packages/matplotlib/mpl-data/fonts/ttf/DejaVuSans-Bold.ttf DejaVu Sans\n",
      "/Users/jakehanson/.brew/lib/python3.7/site-packages/matplotlib/mpl-data/fonts/ttf/DejaVuSansMono-Bold.ttf DejaVu Sans Mono\n",
      "/Users/jakehanson/.brew/lib/python3.7/site-packages/matplotlib/mpl-data/fonts/ttf/DejaVuSans-BoldOblique.ttf DejaVu Sans\n",
      "/Library/Fonts/AppleGothic.ttf AppleGothic\n",
      "/System/Library/Fonts/LastResort.ttf .LastResort\n",
      "/System/Library/Fonts/ZapfDingbats.ttf Zapf Dingbats\n",
      "/Library/Fonts/AppleMyungjo.ttf AppleMyungjo\n",
      "/Library/Fonts/Arial Unicode.ttf Arial Unicode MS\n"
     ]
    }
   ],
   "source": [
    "from fontTools.ttLib import TTFont\n",
    "import matplotlib.font_manager as mfm ## Choose a font that renders the cut symbol properly\n",
    "def char_in_font(Unicode_char, font):\n",
    "    for cmap in font['cmap'].tables:\n",
    "        if cmap.isUnicode():\n",
    "            if ord(Unicode_char) in cmap.cmap:\n",
    "                return True\n",
    "    return False\n",
    "\n",
    "\n",
    "uni_char = \"\\u27A4\"\n",
    "\n",
    "font_info = [(f.fname, f.name) for f in mfm.fontManager.ttflist]\n",
    "for i, font in enumerate(font_info):\n",
    "    if char_in_font(uni_char, TTFont(font[0], fontNumber=0)):\n",
    "        print(font[0], font[1])"
   ]
  },
  {
   "cell_type": "markdown",
   "metadata": {},
   "source": [
    "#### Plot"
   ]
  },
  {
   "cell_type": "code",
   "execution_count": 5,
   "metadata": {},
   "outputs": [
    {
     "data": {
      "image/png": "[encoded data removed]",
      "text/plain": [
       "<Figure size 633.6x388.8 with 1 Axes>"
      ]
     },
     "metadata": {
      "needs_background": "light"
     },
     "output_type": "display_data"
    }
   ],
   "source": [
    "# -*- coding: utf-8 -*-\n",
    "import matplotlib.pyplot as plt\n",
    "import seaborn as sns\n",
    "from pyphi import models\n",
    "sns.set_style('darkgrid')\n",
    "%matplotlib inline\n",
    "\n",
    "## UTF Characters\n",
    "LINE = \"\\u2501\"\n",
    "CUT_SYMBOL = LINE * 2 + \"/ /\" + LINE * 2 + \"\\u27A4\"\n",
    "\n",
    "## Set Font\n",
    "font_path = '/Users/jakehanson/.brew/lib/python3.7/site-packages/matplotlib/mpl-data/fonts/ttf/DejaVuSans.ttf'\n",
    "font = mfm.FontProperties(fname=font_path) # find this font\n",
    "\n",
    "## Initialize fig, ax objects\n",
    "fig = plt.figure(figsize=(8.8,5.4))\n",
    "ax = plt.subplot(111)\n",
    "\n",
    "## Scatterplot Phi Values for each cut\n",
    "x_labels = []\n",
    "for i in range(len(Phi_Spectrum)):\n",
    "    cut = Phi_Spectrum[0][i]\n",
    "    \n",
    "    ## Get label for cut\n",
    "    from_nodes = models.fmt.fmt_mechanism(cut.from_nodes, cut.node_labels)\n",
    "    to_nodes = models.fmt.fmt_mechanism(cut.to_nodes, cut.node_labels)\n",
    "    cut_label = from_nodes+CUT_SYMBOL+to_nodes\n",
    "    \n",
    "    sorted_values = sorted(set(Phi_Spectrum[1][i]),reverse=True)\n",
    "    \n",
    "    plt.scatter(range(len(sorted_values)),sorted_values,alpha=0.5,label=cut_label)\n",
    "    \n",
    "## Plot the PyPhi Value\n",
    "plt.scatter(sorted_values.index(pyphi_val),pyphi_val,marker='x',color='black',label='PyPhi Value')\n",
    "\n",
    "## Plot the theoretical max\n",
    "# plt.axhline(1.5,linestyle='--',color='black',alpha=0.5,label='Upper Bound')\n",
    "\n",
    "## Finish Plotting\n",
    "plt.title('AND+OR System')\n",
    "plt.ylabel(r'Possible $\\Phi$ Value(s)',fontsize=12)\n",
    "plt.xlabel('Rank Order')\n",
    "# plt.ylim((0.0,.85))\n",
    "plt.legend(prop=font,ncol=1)\n",
    "plt.tight_layout()\n",
    "# plt.savefig(\"AND_OR_RANK_ORDER.pdf\")\n",
    "plt.show()"
   ]
  },
  {
   "cell_type": "code",
   "execution_count": null,
   "metadata": {},
   "outputs": [],
   "source": []
  }
 ],
 "metadata": {
  "kernelspec": {
   "display_name": "Python 3",
   "language": "python",
   "name": "python3"
  },
  "language_info": {
   "codemirror_mode": {
    "name": "ipython",
    "version": 3
   },
   "file_extension": ".py",
   "mimetype": "text/x-python",
   "name": "python",
   "nbconvert_exporter": "python",
   "pygments_lexer": "ipython3",
   "version": "3.7.4"
  }
 },
 "nbformat": 4,
 "nbformat_minor": 2
}
