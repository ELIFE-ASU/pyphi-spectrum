{
 "cells": [
  {
   "cell_type": "markdown",
   "metadata": {},
   "source": [
    "## Notebook to study the spectrum of $\\Phi$ values for the entire corpus"
   ]
  },
  {
   "cell_type": "code",
   "execution_count": 93,
   "metadata": {},
   "outputs": [
    {
     "data": {
      "image/png": "[encoded data removed]",
      "text/plain": [
       "<Figure size 633.6x388.8 with 1 Axes>"
      ]
     },
     "metadata": {
      "needs_background": "light"
     },
     "output_type": "display_data"
    }
   ],
   "source": [
    "import pandas as pd\n",
    "import matplotlib.pyplot as plt\n",
    "import seaborn as sns\n",
    "import numpy as np\n",
    "sns.set_style('darkgrid')\n",
    "%matplotlib inline\n",
    "\n",
    "## Read in Data\n",
    "gomez = pd.read_csv(\"results/phi_spectrum_gomez_2021.csv\",header=None,squeeze=True)\n",
    "hoel = pd.read_csv(\"results/phi_spectrum_hoel_2016.csv\",header=None,squeeze=True)\n",
    "farnsworth_full = pd.read_csv(\"results/phi_spectrum_farnsworth_full.csv\",header=None,squeeze=True)\n",
    "farnsworth_reduced = pd.read_csv(\"results/phi_spectrum_farnsworth_reduced.csv\",header=None,squeeze=True)\n",
    "oizumi = pd.read_csv(\"results/phi_spectrum_oizumi_2014.csv\",header=None,squeeze=True)\n",
    "marshall = pd.read_csv(\"results/phi_spectrum_marshall_2017.csv\",header=None,squeeze=True)\n",
    "and_or = pd.read_csv(\"results/phi_spectrum_and_or.csv\",header=None,squeeze=True)\n",
    "photodiode = pd.read_csv(\"results/phi_spectrum_photodiode.csv\",header=None,squeeze=True)\n",
    "tononi = pd.read_csv(\"results/phi_spectrum_tononi_2016.csv\",header=None,squeeze=True)\n",
    "tononi\n",
    "# hanson\n",
    "\n",
    "# ## Create Dict with 'Key':[Phi_MIP_values, Published Value]\n",
    "\n",
    "data_dict = {'AND+OR':[and_or,0.090278], 'Farnsworth 2021 (Full)':[farnsworth_full,0.3125], \n",
    "             'Farnsworth 2021 (Reduced)':[farnsworth_reduced,0.4375], 'Gomez et al. 2020':[gomez,0.215278], \n",
    "             'Photodiode':[photodiode,1.0000], 'Marshall et al. 2017':[marshall,0.090278], \n",
    "             'Hoel et al. 2016':[hoel, 0.11389], 'Tononi et al. 2016':[tononi, 0.659722],\n",
    "             'Oizumi et al. 2014':[oizumi,1.916665]}\n",
    "\n",
    "#### Plot\n",
    "\n",
    "## Initialize fig, ax objects\n",
    "fig = plt.figure(figsize=(8.8,5.4))\n",
    "ax = plt.subplot(111)\n",
    "\n",
    "index = 0\n",
    "for key in data_dict.keys():\n",
    "    size_of_Phi = len(data_dict[key][0]) ## number of degenerate Phi MIP values\n",
    "    plt.scatter([index]*size_of_Phi,data_dict[key][0],alpha=0.5,label=None)\n",
    "    if index == 0:\n",
    "        plt.scatter([index],data_dict[key][1],marker='x',color='black',label='Published Value') # with label\n",
    "    else:\n",
    "        plt.scatter([index],data_dict[key][1],marker='x',color='black')   # no label\n",
    "        \n",
    "    plt.annotate(r'|$\\Phi^{MIP}$| = '+str(size_of_Phi),(index-0.3,np.max(data_dict[key][0])+0.15))\n",
    "    index=index+1\n",
    "    \n",
    "## Clean Up\n",
    "plt.ylabel(r'$\\Phi^{MIP}$ Value(s)')\n",
    "plt.xticks(np.arange(len(data_dict)),data_dict.keys(),rotation=90)\n",
    "plt.legend(loc='upper left')\n",
    "plt.ylim((-0.1,2.25))\n",
    "plt.tight_layout()\n",
    "plt.savefig('Phi_MIP_Corpus.pdf')\n",
    "plt.show()"
   ]
  },
  {
   "cell_type": "code",
   "execution_count": 35,
   "metadata": {},
   "outputs": [
    {
     "data": {
      "text/plain": [
       "dict_keys(['Gomez et al. 2020', 'Hoel et al. 2016', 'Farnsworth 2021 (Full)', 'Farnsworth 2021 (Reduced)', 'Oizumi et al. 2014', 'Marshall et al. 2017', 'AND+OR', 'Photodiode'])"
      ]
     },
     "execution_count": 35,
     "metadata": {},
     "output_type": "execute_result"
    }
   ],
   "source": [
    "np.arange(len(data_dict))\n",
    "data_dict.keys()"
   ]
  },
  {
   "cell_type": "code",
   "execution_count": null,
   "metadata": {},
   "outputs": [],
   "source": [
    "import matplotlib.pyplot as plt\n",
    "import seaborn as sns\n",
    "\n",
    "\n",
    "plt.scatter([i]*len(Phi_Spectrum[1][i]),Phi_Spectrum[1][i],alpha=0.5)\n"
   ]
  },
  {
   "cell_type": "code",
   "execution_count": null,
   "metadata": {},
   "outputs": [],
   "source": [
    "import matplotlib.pyplot as plt\n",
    "import seaborn as sns\n",
    "\n",
    "\n",
    "\n",
    "\n",
    "from pyphi import models\n",
    "sns.set_style('darkgrid')\n",
    "%matplotlib inline\n",
    "\n",
    "## UTF Characters\n",
    "LINE = \"\\u2501\"\n",
    "CUT_SYMBOL = LINE * 2 + \"/ /\" + LINE * 2 + \"\\u27A4\"\n",
    "\n",
    "## Set Font\n",
    "# font_path = '/usr/local/lib/python3.6/site-packages/matplotlib/mpl-data/fonts/ttf/DejaVuSans.ttf'\n",
    "font_path = '/Users/jakehanson/.brew/lib/python3.7/site-packages/matplotlib/mpl-data/fonts/ttf/DejaVuSans.ttf'\n",
    "font = mfm.FontProperties(fname=font_path) # find this font\n",
    "\n",
    "## Initialize fig, ax objects\n",
    "fig = plt.figure(figsize=(8.8,5.4))\n",
    "ax = plt.subplot(111)\n",
    "\n",
    "## Plot published value and possible values\n",
    "plt.plot([0],pyphi_val,'kx',label=r'Published Value')\n",
    "ax.axhspan(np.min(Phi_MIP), np.max(Phi_MIP), alpha=0.15,color='black',label='Possible Values')\n",
    "# ax.axhspan(np.min(Phi_MIP), np.max(Phi_MIP), alpha=0.15,color='black',label='Possible $\\Phi^{Max}$ Values')\n",
    "\n",
    "## Scatterplot Phi Values for each cut\n",
    "x_labels = []\n",
    "for i in range(len(Phi_Spectrum[0])):\n",
    "    cut = Phi_Spectrum[0][i]\n",
    "    \n",
    "    ## Get label for cut\n",
    "    from_nodes = models.fmt.fmt_mechanism(cut.from_nodes, cut.node_labels)\n",
    "    to_nodes = models.fmt.fmt_mechanism(cut.to_nodes, cut.node_labels)\n",
    "    cut_label = from_nodes+CUT_SYMBOL+to_nodes\n",
    "    \n",
    "    ## Plot\n",
    "    plt.scatter([i]*len(Phi_Spectrum[1][i]),Phi_Spectrum[1][i],alpha=0.5)\n",
    "    x_labels.append(cut_label)\n",
    "    \n",
    "## Clean Up\n",
    "plt.title('Hoel et al. 2016 (0000)')\n",
    "plt.ylabel(r'$\\Phi$ Value(s)',fontsize=12)\n",
    "plt.xticks(range(len(Phi_Spectrum[0])),x_labels,rotation=90,fontproperties=font)\n",
    "plt.ylim((-0.0,0.6))\n",
    "plt.legend()\n",
    "# plt.legend(ncol=1,bbox_to_anchor = [1.25,1.0],prop=font,fontsize=12)\n",
    "plt.tight_layout()\n",
    "# plt.savefig(\"Hoel_2016_OFF.pdf\")\n",
    "plt.show()"
   ]
  }
 ],
 "metadata": {
  "kernelspec": {
   "display_name": "Python 3",
   "language": "python",
   "name": "python3"
  },
  "language_info": {
   "codemirror_mode": {
    "name": "ipython",
    "version": 3
   },
   "file_extension": ".py",
   "mimetype": "text/x-python",
   "name": "python",
   "nbconvert_exporter": "python",
   "pygments_lexer": "ipython3",
   "version": "3.7.4"
  }
 },
 "nbformat": 4,
 "nbformat_minor": 2
}
