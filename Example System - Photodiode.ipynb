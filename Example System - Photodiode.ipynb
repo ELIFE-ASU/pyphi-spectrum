{
 "cells": [
  {
   "cell_type": "code",
   "execution_count": 3,
   "metadata": {},
   "outputs": [
    {
     "name": "stdout",
     "output_type": "stream",
     "text": [
      "Network =  NodeLabels(('A', 'B'))\n",
      "\tNumber of Non-unique Constellations = 1\n",
      "\n",
      "Evaluating Cut  Cut [A] ━━/ /━━➤ [B]\n",
      "\tNumber of Non-unique Constellations = 1\n",
      "\tPhi Values for Cut =  [1.0]\n",
      "\n",
      "Evaluating Cut  Cut [B] ━━/ /━━➤ [A]\n",
      "\tNumber of Non-unique Constellations = 1\n",
      "\tPhi Values for Cut =  [1.0]\n",
      "\n",
      "Cuts =  [Cut [A] ━━/ /━━➤ [B], Cut [B] ━━/ /━━➤ [A]]\n",
      "\n",
      "Phi Spectrum =  [[1.0], [1.0]]\n"
     ]
    }
   ],
   "source": [
    "import pyphi\n",
    "import numpy as np\n",
    "from pyphi import phi_spectrum\n",
    "\n",
    "# Transition probability matrix. Saying where each state (little-endian binary) goes\n",
    "tpm = np.array([\n",
    "    [0.,0],\n",
    "    [0.,1.],\n",
    "    [1.,0.],\n",
    "    [1.,1.]\n",
    "])\n",
    "\n",
    "# Set up network object\n",
    "network = pyphi.Network(tpm, node_labels=['A','B'])\n",
    "print(\"Network = \",network.node_labels)\n",
    "\n",
    "# Put the system into an initial state\n",
    "state = (1,0)\n",
    "nodes = ['A','B']\n",
    "\n",
    "## Get the requisite Subsystem\n",
    "subsystem = pyphi.Subsystem(network, state, nodes)\n",
    "\n",
    "## Calculate all Phi values\n",
    "display_CES= False  # if True, output will display constellations\n",
    "Phi_Spectrum = phi_spectrum.get_phi_spectrum(subsystem,display_CES)\n",
    "\n",
    "print(\"\\nCuts = \",Phi_Spectrum[0])\n",
    "print(\"\\nPhi Spectrum = \",Phi_Spectrum[1])"
   ]
  },
  {
   "cell_type": "code",
   "execution_count": 4,
   "metadata": {},
   "outputs": [
    {
     "name": "stdout",
     "output_type": "stream",
     "text": [
      "Phi MIP =  [1.]\n"
     ]
    }
   ],
   "source": [
    "Phi_MIP = phi_spectrum.get_Phi_MIP(Phi_Spectrum)\n",
    "print(\"Phi MIP = \",Phi_MIP)"
   ]
  },
  {
   "cell_type": "code",
   "execution_count": null,
   "metadata": {},
   "outputs": [],
   "source": []
  }
 ],
 "metadata": {
  "kernelspec": {
   "display_name": "Python 3",
   "language": "python",
   "name": "python3"
  },
  "language_info": {
   "codemirror_mode": {
    "name": "ipython",
    "version": 3
   },
   "file_extension": ".py",
   "mimetype": "text/x-python",
   "name": "python",
   "nbconvert_exporter": "python",
   "pygments_lexer": "ipython3",
   "version": "3.7.4"
  }
 },
 "nbformat": 4,
 "nbformat_minor": 2
}
