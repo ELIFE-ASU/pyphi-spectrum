{
 "cells": [
  {
   "cell_type": "markdown",
   "metadata": {},
   "source": [
    "## Oizumi 2014 - OR+AND+OR in state s_0 = 100"
   ]
  },
  {
   "cell_type": "code",
   "execution_count": 33,
   "metadata": {},
   "outputs": [
    {
     "name": "stdout",
     "output_type": "stream",
     "text": [
      "Network =  NodeLabels(('A', 'B', 'C'))\n",
      "\tNumber of Non-unique Constellations = 27\n",
      "\n",
      "Evaluating Cut  Cut [A] ━━/ /━━➤ [B, C]\n",
      "\tNumber of Non-unique Constellations = 1\n",
      "\tPhi Values for Cut =  [1.965274, 1.965274, 2.027774, 1.92361, 1.92361, 1.98611, 1.951385, 1.951385, 2.013885, 1.965274, 1.965274, 2.027774, 1.92361, 1.92361, 1.98611, 1.951385, 1.951385, 2.013885, 1.993052, 1.993052, 2.055552, 1.951387, 1.951387, 2.013887, 1.979163, 1.979163, 2.041663]\n",
      "\n",
      "Evaluating Cut  Cut [B] ━━/ /━━➤ [A, C]\n",
      "\tNumber of Non-unique Constellations = 1\n",
      "\tPhi Values for Cut =  [1.979164, 1.979164, 2.041664, 1.979164, 1.979164, 2.041664, 2.006941, 2.006941, 2.069441, 1.92361, 1.92361, 1.98611, 1.92361, 1.92361, 1.98611, 1.951387, 1.951387, 2.013887, 1.951386, 1.951386, 2.013886, 1.951386, 1.951386, 2.013886, 1.979164, 1.979164, 2.041664]\n",
      "\n",
      "Evaluating Cut  Cut [A, B] ━━/ /━━➤ [C]\n",
      "\tNumber of Non-unique Constellations = 9\n",
      "\tPhi Values for Cut =  [1.854165, 1.895831, 1.868053, 1.90972, 1.951386, 1.923608, 1.881942, 1.923608, 1.89583, 1.854165, 1.895831, 1.868053, 1.90972, 1.951386, 1.923608, 1.881942, 1.923608, 1.89583, 1.916665, 1.958331, 1.930553, 1.972221, 2.013886, 1.986108, 1.944442, 1.986108, 1.95833, 1.881942, 1.854165, 1.868053, 1.937497, 1.90972, 1.923608, 1.909719, 1.881942, 1.89583, 1.881942, 1.854165, 1.868053, 1.937497, 1.90972, 1.923608, 1.909719, 1.881942, 1.89583, 1.944442, 1.916665, 1.930553, 1.999997, 1.972221, 1.986108, 1.972219, 1.944442, 1.95833, 1.881942, 1.881942, 1.854165, 1.937497, 1.937497, 1.90972, 1.909719, 1.909719, 1.881942, 1.881942, 1.881942, 1.854165, 1.937497, 1.937497, 1.90972, 1.909719, 1.909719, 1.881942, 1.944442, 1.944442, 1.916665, 1.999997, 1.999997, 1.972221, 1.972219, 1.972219, 1.944442, 1.90972, 1.951386, 1.923608, 1.854165, 1.895831, 1.868053, 1.881942, 1.923608, 1.89583, 1.90972, 1.951386, 1.923608, 1.854165, 1.895831, 1.868053, 1.881942, 1.923608, 1.89583, 1.972221, 2.013886, 1.986108, 1.916665, 1.958331, 1.930553, 1.944442, 1.986108, 1.95833, 1.937497, 1.90972, 1.923608, 1.881942, 1.854165, 1.868053, 1.909719, 1.881942, 1.89583, 1.937497, 1.90972, 1.923608, 1.881942, 1.854165, 1.868053, 1.909719, 1.881942, 1.89583, 1.999997, 1.972221, 1.986108, 1.944442, 1.916665, 1.930553, 1.972219, 1.944442, 1.95833, 1.937497, 1.937497, 1.90972, 1.881942, 1.881942, 1.854165, 1.909719, 1.909719, 1.881942, 1.937497, 1.937497, 1.90972, 1.881942, 1.881942, 1.854165, 1.909719, 1.909719, 1.881942, 1.999997, 1.999997, 1.972221, 1.944442, 1.944442, 1.916665, 1.972219, 1.972219, 1.944442, 1.881943, 1.923608, 1.89583, 1.881943, 1.923608, 1.89583, 1.854165, 1.895831, 1.868053, 1.881943, 1.923608, 1.89583, 1.881943, 1.923608, 1.89583, 1.854165, 1.895831, 1.868053, 1.944443, 1.986108, 1.95833, 1.944443, 1.986108, 1.95833, 1.916665, 1.958331, 1.930553, 1.909719, 1.881943, 1.89583, 1.909719, 1.881943, 1.89583, 1.881942, 1.854165, 1.868053, 1.909719, 1.881943, 1.89583, 1.909719, 1.881943, 1.89583, 1.881942, 1.854165, 1.868053, 1.972219, 1.944443, 1.95833, 1.972219, 1.944443, 1.95833, 1.944442, 1.916665, 1.930553, 1.909719, 1.909719, 1.881943, 1.909719, 1.909719, 1.881943, 1.881942, 1.881942, 1.854165, 1.909719, 1.909719, 1.881943, 1.909719, 1.909719, 1.881943, 1.881942, 1.881942, 1.854165, 1.972219, 1.972219, 1.944443, 1.972219, 1.972219, 1.944443, 1.944442, 1.944442, 1.916665]\n",
      "\n",
      "Evaluating Cut  Cut [C] ━━/ /━━➤ [A, B]\n",
      "\tNumber of Non-unique Constellations = 1\n",
      "\tPhi Values for Cut =  [1.854165, 1.854165, 1.916665, 1.881942, 1.881942, 1.944442, 1.881942, 1.881942, 1.944442, 1.90972, 1.90972, 1.972221, 1.937497, 1.937497, 1.999997, 1.937497, 1.937497, 1.999997, 1.881943, 1.881943, 1.944443, 1.909719, 1.909719, 1.972219, 1.909719, 1.909719, 1.972219]\n",
      "\n",
      "Evaluating Cut  Cut [A, C] ━━/ /━━➤ [B]\n",
      "\tNumber of Non-unique Constellations = 1\n",
      "\tPhi Values for Cut =  [1.805554, 1.868052, 1.868052, 1.805554, 1.868052, 1.868052, 1.833332, 1.89583, 1.89583, 1.805554, 1.868052, 1.868052, 1.805554, 1.868052, 1.868052, 1.833332, 1.89583, 1.89583, 1.833332, 1.89583, 1.89583, 1.833332, 1.89583, 1.89583, 1.861109, 1.923607, 1.923607]\n",
      "\n",
      "Evaluating Cut  Cut [B, C] ━━/ /━━➤ [A]\n",
      "\tNumber of Non-unique Constellations = 1\n",
      "\tPhi Values for Cut =  [1.930553, 1.805554, 1.868052, 1.930553, 1.805554, 1.868052, 1.95833, 1.833332, 1.89583, 1.930553, 1.805554, 1.868052, 1.930553, 1.805554, 1.868052, 1.95833, 1.833332, 1.89583, 1.95833, 1.833332, 1.89583, 1.95833, 1.833332, 1.89583, 1.986108, 1.861109, 1.923607]\n",
      "\n",
      "Cuts =  [Cut [A] ━━/ /━━➤ [B, C], Cut [B] ━━/ /━━➤ [A, C], Cut [A, B] ━━/ /━━➤ [C], Cut [C] ━━/ /━━➤ [A, B], Cut [A, C] ━━/ /━━➤ [B], Cut [B, C] ━━/ /━━➤ [A]]\n",
      "\n",
      "Phi Spectrum =  [[1.965274, 1.965274, 2.027774, 1.92361, 1.92361, 1.98611, 1.951385, 1.951385, 2.013885, 1.965274, 1.965274, 2.027774, 1.92361, 1.92361, 1.98611, 1.951385, 1.951385, 2.013885, 1.993052, 1.993052, 2.055552, 1.951387, 1.951387, 2.013887, 1.979163, 1.979163, 2.041663], [1.979164, 1.979164, 2.041664, 1.979164, 1.979164, 2.041664, 2.006941, 2.006941, 2.069441, 1.92361, 1.92361, 1.98611, 1.92361, 1.92361, 1.98611, 1.951387, 1.951387, 2.013887, 1.951386, 1.951386, 2.013886, 1.951386, 1.951386, 2.013886, 1.979164, 1.979164, 2.041664], [1.854165, 1.895831, 1.868053, 1.90972, 1.951386, 1.923608, 1.881942, 1.923608, 1.89583, 1.854165, 1.895831, 1.868053, 1.90972, 1.951386, 1.923608, 1.881942, 1.923608, 1.89583, 1.916665, 1.958331, 1.930553, 1.972221, 2.013886, 1.986108, 1.944442, 1.986108, 1.95833, 1.881942, 1.854165, 1.868053, 1.937497, 1.90972, 1.923608, 1.909719, 1.881942, 1.89583, 1.881942, 1.854165, 1.868053, 1.937497, 1.90972, 1.923608, 1.909719, 1.881942, 1.89583, 1.944442, 1.916665, 1.930553, 1.999997, 1.972221, 1.986108, 1.972219, 1.944442, 1.95833, 1.881942, 1.881942, 1.854165, 1.937497, 1.937497, 1.90972, 1.909719, 1.909719, 1.881942, 1.881942, 1.881942, 1.854165, 1.937497, 1.937497, 1.90972, 1.909719, 1.909719, 1.881942, 1.944442, 1.944442, 1.916665, 1.999997, 1.999997, 1.972221, 1.972219, 1.972219, 1.944442, 1.90972, 1.951386, 1.923608, 1.854165, 1.895831, 1.868053, 1.881942, 1.923608, 1.89583, 1.90972, 1.951386, 1.923608, 1.854165, 1.895831, 1.868053, 1.881942, 1.923608, 1.89583, 1.972221, 2.013886, 1.986108, 1.916665, 1.958331, 1.930553, 1.944442, 1.986108, 1.95833, 1.937497, 1.90972, 1.923608, 1.881942, 1.854165, 1.868053, 1.909719, 1.881942, 1.89583, 1.937497, 1.90972, 1.923608, 1.881942, 1.854165, 1.868053, 1.909719, 1.881942, 1.89583, 1.999997, 1.972221, 1.986108, 1.944442, 1.916665, 1.930553, 1.972219, 1.944442, 1.95833, 1.937497, 1.937497, 1.90972, 1.881942, 1.881942, 1.854165, 1.909719, 1.909719, 1.881942, 1.937497, 1.937497, 1.90972, 1.881942, 1.881942, 1.854165, 1.909719, 1.909719, 1.881942, 1.999997, 1.999997, 1.972221, 1.944442, 1.944442, 1.916665, 1.972219, 1.972219, 1.944442, 1.881943, 1.923608, 1.89583, 1.881943, 1.923608, 1.89583, 1.854165, 1.895831, 1.868053, 1.881943, 1.923608, 1.89583, 1.881943, 1.923608, 1.89583, 1.854165, 1.895831, 1.868053, 1.944443, 1.986108, 1.95833, 1.944443, 1.986108, 1.95833, 1.916665, 1.958331, 1.930553, 1.909719, 1.881943, 1.89583, 1.909719, 1.881943, 1.89583, 1.881942, 1.854165, 1.868053, 1.909719, 1.881943, 1.89583, 1.909719, 1.881943, 1.89583, 1.881942, 1.854165, 1.868053, 1.972219, 1.944443, 1.95833, 1.972219, 1.944443, 1.95833, 1.944442, 1.916665, 1.930553, 1.909719, 1.909719, 1.881943, 1.909719, 1.909719, 1.881943, 1.881942, 1.881942, 1.854165, 1.909719, 1.909719, 1.881943, 1.909719, 1.909719, 1.881943, 1.881942, 1.881942, 1.854165, 1.972219, 1.972219, 1.944443, 1.972219, 1.972219, 1.944443, 1.944442, 1.944442, 1.916665], [1.854165, 1.854165, 1.916665, 1.881942, 1.881942, 1.944442, 1.881942, 1.881942, 1.944442, 1.90972, 1.90972, 1.972221, 1.937497, 1.937497, 1.999997, 1.937497, 1.937497, 1.999997, 1.881943, 1.881943, 1.944443, 1.909719, 1.909719, 1.972219, 1.909719, 1.909719, 1.972219], [1.805554, 1.868052, 1.868052, 1.805554, 1.868052, 1.868052, 1.833332, 1.89583, 1.89583, 1.805554, 1.868052, 1.868052, 1.805554, 1.868052, 1.868052, 1.833332, 1.89583, 1.89583, 1.833332, 1.89583, 1.89583, 1.833332, 1.89583, 1.89583, 1.861109, 1.923607, 1.923607], [1.930553, 1.805554, 1.868052, 1.930553, 1.805554, 1.868052, 1.95833, 1.833332, 1.89583, 1.930553, 1.805554, 1.868052, 1.930553, 1.805554, 1.868052, 1.95833, 1.833332, 1.89583, 1.95833, 1.833332, 1.89583, 1.95833, 1.833332, 1.89583, 1.986108, 1.861109, 1.923607]]\n"
     ]
    }
   ],
   "source": [
    "import pyphi\n",
    "import numpy as np\n",
    "from pyphi import phi_spectrum\n",
    "from pyphi import utils\n",
    "# from pyphi.phi_spectrum import get_all_CES\n",
    "\n",
    "# Transition probability matrix. Saying where each state goes (little-endian notation)\n",
    "tpm = np.array([\n",
    "    [0.,0.,0.],\n",
    "    [0.,0.,1.],\n",
    "    [1.,0.,1.],\n",
    "    [1.,0.,0.],\n",
    "    [1.,0.,0.],\n",
    "    [1.,1.,1.],\n",
    "    [1.,0.,1.],\n",
    "    [1.,1.,0.]\n",
    "])\n",
    "\n",
    "# Set up network object\n",
    "network = pyphi.Network(tpm, node_labels=['A','B','C'])\n",
    "print(\"Network = \",network.node_labels)\n",
    "\n",
    "# Put the system into a given state\n",
    "state = (1,0,0)\n",
    "nodes = ['A','B','C']\n",
    "\n",
    "## Get the requisite Subsystem\n",
    "subsystem = pyphi.Subsystem(network, state, nodes)\n",
    "\n",
    "## Calculate all Phi values\n",
    "display_CES= False  # if True, output will display constellations\n",
    "Phi_Spectrum = phi_spectrum.get_phi_spectrum(subsystem,display_CES)\n",
    "\n",
    "print(\"\\nCuts = \",Phi_Spectrum[0])\n",
    "print(\"\\nPhi Spectrum = \",Phi_Spectrum[1])"
   ]
  },
  {
   "cell_type": "code",
   "execution_count": 34,
   "metadata": {},
   "outputs": [
    {
     "name": "stdout",
     "output_type": "stream",
     "text": [
      "Phi MIP =  [1.805554 1.833332 1.854165 1.861109 1.868052 1.868053 1.881942 1.881943\n",
      " 1.89583  1.895831 1.909719 1.90972  1.916665 1.923607]\n"
     ]
    }
   ],
   "source": [
    "Phi_MIP = phi_spectrum.get_Phi_MIP(Phi_Spectrum)\n",
    "print(\"Phi MIP = \",Phi_MIP)"
   ]
  },
  {
   "cell_type": "code",
   "execution_count": 10,
   "metadata": {},
   "outputs": [
    {
     "name": "stdout",
     "output_type": "stream",
     "text": [
      "/Users/jakehanson/.brew/lib/python3.7/site-packages/matplotlib/mpl-data/fonts/ttf/DejaVuSans-Oblique.ttf DejaVu Sans\n",
      "/Users/jakehanson/.brew/lib/python3.7/site-packages/matplotlib/mpl-data/fonts/ttf/DejaVuSans.ttf DejaVu Sans\n",
      "/Users/jakehanson/.brew/lib/python3.7/site-packages/matplotlib/mpl-data/fonts/ttf/DejaVuSansMono.ttf DejaVu Sans Mono\n",
      "/Users/jakehanson/.brew/lib/python3.7/site-packages/matplotlib/mpl-data/fonts/ttf/DejaVuSans-Bold.ttf DejaVu Sans\n",
      "/Users/jakehanson/.brew/lib/python3.7/site-packages/matplotlib/mpl-data/fonts/ttf/DejaVuSansMono-Bold.ttf DejaVu Sans Mono\n",
      "/Users/jakehanson/.brew/lib/python3.7/site-packages/matplotlib/mpl-data/fonts/ttf/DejaVuSans-BoldOblique.ttf DejaVu Sans\n",
      "/Library/Fonts/AppleGothic.ttf AppleGothic\n",
      "/System/Library/Fonts/LastResort.ttf .LastResort\n",
      "/System/Library/Fonts/ZapfDingbats.ttf Zapf Dingbats\n",
      "/Library/Fonts/AppleMyungjo.ttf AppleMyungjo\n",
      "/Library/Fonts/Arial Unicode.ttf Arial Unicode MS\n"
     ]
    }
   ],
   "source": [
    "from fontTools.ttLib import TTFont\n",
    "import matplotlib.font_manager as mfm\n",
    "\n",
    "## Choose a font that renders the cut symbol properly\n",
    "def char_in_font(Unicode_char, font):\n",
    "    for cmap in font['cmap'].tables:\n",
    "        if cmap.isUnicode():\n",
    "            if ord(Unicode_char) in cmap.cmap:\n",
    "                return True\n",
    "    return False\n",
    "\n",
    "\n",
    "uni_char = \"\\u27A4\"\n",
    "\n",
    "font_info = [(f.fname, f.name) for f in mfm.fontManager.ttflist]\n",
    "for i, font in enumerate(font_info):\n",
    "    if char_in_font(uni_char, TTFont(font[0], fontNumber=0)):\n",
    "        print(font[0], font[1])"
   ]
  },
  {
   "cell_type": "code",
   "execution_count": 23,
   "metadata": {},
   "outputs": [
    {
     "data": {
      "image/png": "[encoded data removed]",
      "text/plain": [
       "<Figure size 633.6x388.8 with 1 Axes>"
      ]
     },
     "metadata": {
      "needs_background": "light"
     },
     "output_type": "display_data"
    }
   ],
   "source": [
    "# -*- coding: utf-8 -*-\n",
    "import matplotlib.pyplot as plt\n",
    "import seaborn as sns\n",
    "from pyphi import models\n",
    "sns.set_style('darkgrid')\n",
    "%matplotlib inline\n",
    "\n",
    "## UTF Characters\n",
    "LINE = \"\\u2501\"\n",
    "CUT_SYMBOL = LINE * 2 + \"/ /\" + LINE * 2 + \"\\u27A4\"\n",
    "\n",
    "## Set Font\n",
    "# font_path = '/usr/local/lib/python3.6/site-packages/matplotlib/mpl-data/fonts/ttf/DejaVuSans.ttf'\n",
    "font_path = '/Users/jakehanson/.brew/lib/python3.7/site-packages/matplotlib/mpl-data/fonts/ttf/DejaVuSans.ttf'\n",
    "font = mfm.FontProperties(fname=font_path) # find this font\n",
    "\n",
    "## Initialize fig, ax objects\n",
    "fig = plt.figure(figsize=(8.8,5.4))\n",
    "ax = plt.subplot(111)\n",
    "\n",
    "## Plot published value and possible values\n",
    "plt.plot([2],[1.92],'kx',label=r'Published Value')\n",
    "ax.axhspan(np.min(Phi_MIP), np.max(Phi_MIP), alpha=0.15,color='black',label='Possible Values')\n",
    "\n",
    "## Scatterplot Phi Values for each cut\n",
    "x_labels = []\n",
    "for i in range(len(Phi_Spectrum[0])):\n",
    "    cut = Phi_Spectrum[0][i]\n",
    "    \n",
    "    ## Get label for cut\n",
    "    from_nodes = models.fmt.fmt_mechanism(cut.from_nodes, cut.node_labels)\n",
    "    to_nodes = models.fmt.fmt_mechanism(cut.to_nodes, cut.node_labels)\n",
    "    cut_label = from_nodes+CUT_SYMBOL+to_nodes\n",
    "    \n",
    "    ## Plot\n",
    "    plt.scatter([i]*len(Phi_Spectrum[1][i]),Phi_Spectrum[1][i],alpha=0.5)\n",
    "    x_labels.append(cut_label)\n",
    "    \n",
    "## Clean Up\n",
    "plt.title('Oizumi 2014')\n",
    "plt.ylabel(r'$\\Phi$ Value(s)',fontsize=12)\n",
    "plt.xticks(range(len(Phi_Spectrum[0])),x_labels,rotation=90,fontproperties=font)\n",
    "# plt.ylim((0.0,1.0))\n",
    "plt.legend()\n",
    "# plt.legend(ncol=1,bbox_to_anchor = [1.25,1.0],prop=font,fontsize=12)\n",
    "plt.tight_layout()\n",
    "plt.savefig(\"Oizumi_2014.pdf\")\n",
    "plt.show()"
   ]
  },
  {
   "cell_type": "code",
   "execution_count": null,
   "metadata": {},
   "outputs": [],
   "source": []
  }
 ],
 "metadata": {
  "kernelspec": {
   "display_name": "Python 3",
   "language": "python",
   "name": "python3"
  },
  "language_info": {
   "codemirror_mode": {
    "name": "ipython",
    "version": 3
   },
   "file_extension": ".py",
   "mimetype": "text/x-python",
   "name": "python",
   "nbconvert_exporter": "python",
   "pygments_lexer": "ipython3",
   "version": "3.7.4"
  }
 },
 "nbformat": 4,
 "nbformat_minor": 2
}
