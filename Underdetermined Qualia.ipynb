{
 "cells": [
  {
   "cell_type": "markdown",
   "metadata": {},
   "source": [
    "## Notebook used to calculate all possible $\\Phi$ values using modified PyPhi"
   ]
  },
  {
   "cell_type": "code",
   "execution_count": 4,
   "metadata": {},
   "outputs": [
    {
     "name": "stdout",
     "output_type": "stream",
     "text": [
      "NODE LABELS =  NodeLabels(('R', 'C', 'P'))\n",
      "MECHANISMS:\n",
      "(0,)\n",
      "\tPotential Purviews:\n"
     ]
    },
    {
     "ename": "NotImplementedError",
     "evalue": "kwarg cache keys not implemented",
     "output_type": "error",
     "traceback": [
      "\u001b[0;31m---------------------------------------------------------------------------\u001b[0m",
      "\u001b[0;31mNotImplementedError\u001b[0m                       Traceback (most recent call last)",
      "\u001b[0;32m<ipython-input-4-24b706534d63>\u001b[0m in \u001b[0;36m<module>\u001b[0;34m\u001b[0m\n\u001b[1;32m     34\u001b[0m     \u001b[0mprint\u001b[0m\u001b[0;34m(\u001b[0m\u001b[0mmechanism\u001b[0m\u001b[0;34m)\u001b[0m\u001b[0;34m\u001b[0m\u001b[0;34m\u001b[0m\u001b[0m\n\u001b[1;32m     35\u001b[0m     \u001b[0mprint\u001b[0m\u001b[0;34m(\u001b[0m\u001b[0;34m\"\\tPotential Purviews:\"\u001b[0m\u001b[0;34m)\u001b[0m\u001b[0;34m\u001b[0m\u001b[0;34m\u001b[0m\u001b[0m\n\u001b[0;32m---> 36\u001b[0;31m     \u001b[0mpotential_purviews\u001b[0m \u001b[0;34m=\u001b[0m \u001b[0mnetwork\u001b[0m\u001b[0;34m.\u001b[0m\u001b[0mpotential_purviews\u001b[0m\u001b[0;34m(\u001b[0m\u001b[0mdirection\u001b[0m\u001b[0;34m,\u001b[0m \u001b[0mmechanism\u001b[0m\u001b[0;34m,\u001b[0m \u001b[0mpurviews\u001b[0m\u001b[0;34m=\u001b[0m\u001b[0;32mFalse\u001b[0m\u001b[0;34m)\u001b[0m\u001b[0;34m\u001b[0m\u001b[0;34m\u001b[0m\u001b[0m\n\u001b[0m\u001b[1;32m     37\u001b[0m     \u001b[0;32mfor\u001b[0m \u001b[0mpurview\u001b[0m \u001b[0;32min\u001b[0m \u001b[0mpotential_purviews\u001b[0m\u001b[0;34m:\u001b[0m\u001b[0;34m\u001b[0m\u001b[0;34m\u001b[0m\u001b[0m\n\u001b[1;32m     38\u001b[0m         \u001b[0mprint\u001b[0m\u001b[0;34m(\u001b[0m\u001b[0;34m\"\\t\"\u001b[0m\u001b[0;34m,\u001b[0m\u001b[0mpurview\u001b[0m\u001b[0;34m)\u001b[0m\u001b[0;34m\u001b[0m\u001b[0;34m\u001b[0m\u001b[0m\n",
      "\u001b[0;32m~/Desktop/Degenerate Core Causes/PyPhi/pyphi/pyphi/cache.py\u001b[0m in \u001b[0;36mwrapper\u001b[0;34m(obj, *args, **kwargs)\u001b[0m\n\u001b[1;32m    453\u001b[0m \u001b[0;34m\u001b[0m\u001b[0m\n\u001b[1;32m    454\u001b[0m             \u001b[0;31m# Delegate key generation\u001b[0m\u001b[0;34m\u001b[0m\u001b[0;34m\u001b[0m\u001b[0;34m\u001b[0m\u001b[0m\n\u001b[0;32m--> 455\u001b[0;31m             \u001b[0mkey\u001b[0m \u001b[0;34m=\u001b[0m \u001b[0mcache\u001b[0m\u001b[0;34m.\u001b[0m\u001b[0mkey\u001b[0m\u001b[0;34m(\u001b[0m\u001b[0;34m*\u001b[0m\u001b[0margs\u001b[0m\u001b[0;34m,\u001b[0m \u001b[0m_prefix\u001b[0m\u001b[0;34m=\u001b[0m\u001b[0mkey_prefix\u001b[0m\u001b[0;34m,\u001b[0m \u001b[0;34m**\u001b[0m\u001b[0mkwargs\u001b[0m\u001b[0;34m)\u001b[0m\u001b[0;34m\u001b[0m\u001b[0;34m\u001b[0m\u001b[0m\n\u001b[0m\u001b[1;32m    456\u001b[0m \u001b[0;34m\u001b[0m\u001b[0m\n\u001b[1;32m    457\u001b[0m             \u001b[0;31m# Get cached value, or compute\u001b[0m\u001b[0;34m\u001b[0m\u001b[0;34m\u001b[0m\u001b[0;34m\u001b[0m\u001b[0m\n",
      "\u001b[0;32m~/Desktop/Degenerate Core Causes/PyPhi/pyphi/pyphi/cache.py\u001b[0m in \u001b[0;36mkey\u001b[0;34m(self, _prefix, *args, **kwargs)\u001b[0m\n\u001b[1;32m    211\u001b[0m         \"\"\"\n\u001b[1;32m    212\u001b[0m         \u001b[0;32mif\u001b[0m \u001b[0mkwargs\u001b[0m\u001b[0;34m:\u001b[0m\u001b[0;34m\u001b[0m\u001b[0;34m\u001b[0m\u001b[0m\n\u001b[0;32m--> 213\u001b[0;31m             \u001b[0;32mraise\u001b[0m \u001b[0mNotImplementedError\u001b[0m\u001b[0;34m(\u001b[0m\u001b[0;34m\"kwarg cache keys not implemented\"\u001b[0m\u001b[0;34m)\u001b[0m\u001b[0;34m\u001b[0m\u001b[0;34m\u001b[0m\u001b[0m\n\u001b[0m\u001b[1;32m    214\u001b[0m         \u001b[0;32mreturn\u001b[0m \u001b[0;34m(\u001b[0m\u001b[0m_prefix\u001b[0m\u001b[0;34m,\u001b[0m\u001b[0;34m)\u001b[0m \u001b[0;34m+\u001b[0m \u001b[0mtuple\u001b[0m\u001b[0;34m(\u001b[0m\u001b[0margs\u001b[0m\u001b[0;34m)\u001b[0m\u001b[0;34m\u001b[0m\u001b[0;34m\u001b[0m\u001b[0m\n\u001b[1;32m    215\u001b[0m \u001b[0;34m\u001b[0m\u001b[0m\n",
      "\u001b[0;31mNotImplementedError\u001b[0m: kwarg cache keys not implemented"
     ]
    }
   ],
   "source": [
    "import pyphi\n",
    "import numpy as np\n",
    "from pyphi import Direction\n",
    "from pyphi import utils\n",
    "from pyphi import cache\n",
    "\n",
    "# Transition probability matrix. Saying where each state (little-endian binary) goes\n",
    "tpm = np.array([\n",
    "    [0.,0.,0.],\n",
    "    [0.,0.,0.],\n",
    "    [1.,0.,0.],\n",
    "    [1.,0.,1.],\n",
    "    [0.,1.,0.],\n",
    "    [0.,1.,0.],\n",
    "    [1.,1.,0.],\n",
    "    [1.,1.,1.]\n",
    "])\n",
    "\n",
    "# Set up network object\n",
    "network = pyphi.Network(tpm, node_labels=['R','C','P'])\n",
    "print(\"NODE LABELS = \",network.node_labels)\n",
    "\n",
    "# Put the system into a given state\n",
    "state = (0,0,0)\n",
    "nodes = ['R','C','P']\n",
    "subsystem = pyphi.Subsystem(network, state, nodes)\n",
    "\n",
    "\n",
    "mechanisms = utils.powerset(subsystem.node_indices, nonempty=True)\n",
    "direction = Direction.CAUSE\n",
    "\n",
    "print(\"MECHANISMS:\")\n",
    "for mechanism in mechanisms:\n",
    "    print(mechanism)\n",
    "    print(\"\\tPotential Purviews:\")\n",
    "    potential_purviews = network.potential_purviews(direction, mechanism, purviews=False)\n",
    "    for purview in potential_purviews:\n",
    "        print(\"\\t\",purview)\n",
    "\n",
    "\n",
    "\n",
    "# purviews = network.potential_purviews(Direction.CAUSE, mechanism,)\n",
    "\n",
    "# Put the system into a given state\n",
    "# state = (0,0,0)\n",
    "# nodes = ['R','C','P']\n",
    "# subsystem = pyphi.Subsystem(network, state, nodes)\n",
    "# ces = pyphi.compute.ces(subsystem, mechanisms=False,purviews=False,cause_purviews=False,effect_purviews=False,parallel=False)\n",
    "# print(ces.__dict__)\n",
    "# # subsystem.concept\n",
    "\n",
    "# # # sia = pyphi.compute.sia(subsystem)\n",
    "# # # print(\"PHI = \",sia.phi)\n",
    "# # print(sia.cut)\n",
    "\n",
    "# ces = pyphi.compute.ces(subsystem, mechanisms=False,purviews=False,cause_purviews=False,effect_purviews=False,parallel=False)\n",
    "\n",
    "# major_complex = pyphi.compute.major_complex(network, state)\n",
    "# print(major_complex.subsystem)\n",
    "\n",
    "# subsystem = major_complex.subsystem\n",
    "# subsystem.concept()"
   ]
  },
  {
   "cell_type": "code",
   "execution_count": 1,
   "metadata": {},
   "outputs": [
    {
     "name": "stdout",
     "output_type": "stream",
     "text": [
      "MECHANISM =  ('0',)\n"
     ]
    },
    {
     "ename": "NameError",
     "evalue": "name 'subsystem' is not defined",
     "output_type": "error",
     "traceback": [
      "\u001b[0;31m---------------------------------------------------------------------------\u001b[0m",
      "\u001b[0;31mNameError\u001b[0m                                 Traceback (most recent call last)",
      "\u001b[0;32m<ipython-input-1-017c330e5e7d>\u001b[0m in \u001b[0;36m<module>\u001b[0;34m\u001b[0m\n\u001b[1;32m      6\u001b[0m \u001b[0;32mfor\u001b[0m \u001b[0mmechanism\u001b[0m \u001b[0;32min\u001b[0m \u001b[0mutils\u001b[0m\u001b[0;34m.\u001b[0m\u001b[0mpowerset\u001b[0m\u001b[0;34m(\u001b[0m\u001b[0;34m'0'\u001b[0m\u001b[0;34m,\u001b[0m\u001b[0;34m'1'\u001b[0m\u001b[0;34m,\u001b[0m\u001b[0;34m'2'\u001b[0m\u001b[0;34m)\u001b[0m\u001b[0;34m:\u001b[0m\u001b[0;34m\u001b[0m\u001b[0;34m\u001b[0m\u001b[0m\n\u001b[1;32m      7\u001b[0m     \u001b[0mprint\u001b[0m\u001b[0;34m(\u001b[0m\u001b[0;34m\"MECHANISM = \"\u001b[0m\u001b[0;34m,\u001b[0m\u001b[0mmechanism\u001b[0m\u001b[0;34m)\u001b[0m\u001b[0;34m\u001b[0m\u001b[0;34m\u001b[0m\u001b[0m\n\u001b[0;32m----> 8\u001b[0;31m     \u001b[0mprint\u001b[0m\u001b[0;34m(\u001b[0m\u001b[0msubsystem\u001b[0m\u001b[0;34m.\u001b[0m\u001b[0mpotential_purviews\u001b[0m\u001b[0;34m(\u001b[0m\u001b[0;34m'CAUSE'\u001b[0m\u001b[0;34m,\u001b[0m \u001b[0mmechanism\u001b[0m\u001b[0;34m,\u001b[0m \u001b[0mpurviews\u001b[0m\u001b[0;34m=\u001b[0m\u001b[0;32mFalse\u001b[0m\u001b[0;34m)\u001b[0m\u001b[0;34m)\u001b[0m\u001b[0;34m\u001b[0m\u001b[0;34m\u001b[0m\u001b[0m\n\u001b[0m\u001b[1;32m      9\u001b[0m \u001b[0;31m#     for purview in utils.powerset('R','C'):\u001b[0m\u001b[0;34m\u001b[0m\u001b[0;34m\u001b[0m\u001b[0;34m\u001b[0m\u001b[0m\n\u001b[1;32m     10\u001b[0m \u001b[0;31m#         subsystem.cause_repertoire(mechanism,purview)\u001b[0m\u001b[0;34m\u001b[0m\u001b[0;34m\u001b[0m\u001b[0;34m\u001b[0m\u001b[0m\n",
      "\u001b[0;31mNameError\u001b[0m: name 'subsystem' is not defined"
     ]
    }
   ],
   "source": [
    "from pyphi import utils\n",
    "\n",
    "# subsystem.potential_purviews(self, 'CAUSE', mechanism, purviews=False):\n",
    "\n",
    "        \n",
    "for mechanism in utils.powerset('0','1','2'):\n",
    "    print(\"MECHANISM = \",mechanism)\n",
    "    print(subsystem.potential_purviews('CAUSE', mechanism, purviews=False))\n",
    "#     for purview in utils.powerset('R','C'):\n",
    "#         subsystem.cause_repertoire(mechanism,purview)"
   ]
  },
  {
   "cell_type": "markdown",
   "metadata": {},
   "source": [
    "#### Now get all the different cause/effect repetoires"
   ]
  },
  {
   "cell_type": "code",
   "execution_count": 8,
   "metadata": {},
   "outputs": [
    {
     "name": "stdout",
     "output_type": "stream",
     "text": [
      "[1. 0. 0. 0.]\n",
      "Repertoire irreducibility analysis\n",
      "  φ = 1/4\n",
      "  Mechanism: [C]\n",
      "  Purview = [R, P]\n",
      "  Direction: EFFECT\n",
      "  Partition:\n",
      "     ∅     C \n",
      "    ─── ✕ ───\n",
      "     P     R \n",
      "  Repertoire:\n",
      "    ┌──────────────┐\n",
      "    │ S     Pr(S)  │\n",
      "    │ ╴╴╴╴╴╴╴╴╴╴╴╴ │\n",
      "    │ 00    1      │\n",
      "    │ 10    0      │\n",
      "    │ 01    0      │\n",
      "    │ 11    0      │\n",
      "    └──────────────┘\n",
      "  Partitioned repertoire:\n",
      "    ┌──────────────┐\n",
      "    │ S     Pr(S)  │\n",
      "    │ ╴╴╴╴╴╴╴╴╴╴╴╴ │\n",
      "    │ 00    3/4    │\n",
      "    │ 10    0      │\n",
      "    │ 01    1/4    │\n",
      "    │ 11    0      │\n",
      "    └──────────────┘\n"
     ]
    }
   ],
   "source": [
    "# Put the system into a given state\n",
    "state = (0,0,0)\n",
    "nodes = ['R','C','P']\n",
    "subsystem = pyphi.Subsystem(network, state, nodes)\n",
    "\n",
    "# Get the cause repetoire for the mechanism over the purview\n",
    "R,C,P = subsystem.node_indices\n",
    "# print(subsystem.state)\n",
    "mechanism = (C,)\n",
    "purview = (R,P)\n",
    "cr = subsystem.effect_repertoire(mechanism,purview)\n",
    "flat_cr = pyphi.distribution.flatten(cr)  # returns 1d array in little endian convention\n",
    "print(flat_cr)\n",
    "\n",
    "mip = subsystem.effect_mip(mechanism,purview)\n",
    "print(mip)"
   ]
  },
  {
   "cell_type": "markdown",
   "metadata": {},
   "source": [
    "## Now do the same for the unidirectional cut R -//->CP"
   ]
  },
  {
   "cell_type": "code",
   "execution_count": 9,
   "metadata": {},
   "outputs": [
    {
     "name": "stdout",
     "output_type": "stream",
     "text": [
      "[1. 0. 0. 0.]\n",
      "Repertoire irreducibility analysis\n",
      "  φ = 1/4\n",
      "  Mechanism: [C]\n",
      "  Purview = [R, P]\n",
      "  Direction: EFFECT\n",
      "  Partition:\n",
      "     ∅     C \n",
      "    ─── ✕ ───\n",
      "     P     R \n",
      "  Repertoire:\n",
      "    ┌──────────────┐\n",
      "    │ S     Pr(S)  │\n",
      "    │ ╴╴╴╴╴╴╴╴╴╴╴╴ │\n",
      "    │ 00    1      │\n",
      "    │ 10    0      │\n",
      "    │ 01    0      │\n",
      "    │ 11    0      │\n",
      "    └──────────────┘\n",
      "  Partitioned repertoire:\n",
      "    ┌──────────────┐\n",
      "    │ S     Pr(S)  │\n",
      "    │ ╴╴╴╴╴╴╴╴╴╴╴╴ │\n",
      "    │ 00    3/4    │\n",
      "    │ 10    0      │\n",
      "    │ 01    1/4    │\n",
      "    │ 11    0      │\n",
      "    └──────────────┘\n"
     ]
    }
   ],
   "source": [
    "import pyphi\n",
    "import numpy as np\n",
    "\n",
    "# Transition probability matrix. Saying where each state (little-endian binary) goes\n",
    "tpm = np.array([\n",
    "    [1.,0.,0.,0.,0.,0.,0.,0.],\n",
    "    [1.,0.,0.,0.,0.,0.,0.,0.],\n",
    "    [0.,1/2.,0.,0.,0.,1/2.,0.,0.],\n",
    "    [0.,1/2.,0.,0.,0.,1/2.,0.,0.],\n",
    "    [0.,0.,1.,0.,0.,0.,0.,0.],\n",
    "    [0.,0.,1.,0.,0.,0.,0.,0.],\n",
    "    [0.,0,0.,1/2.,0.,0.,0.,1/2.],\n",
    "    [0.,0,0.,1/2.,0.,0.,0.,1/2.],\n",
    "])\n",
    "\n",
    "# Set up network object\n",
    "# network = pyphi.Network(tpm, cm=cm, node_labels=['A','B','C'])\n",
    "network = pyphi.Network(tpm, node_labels=['R','C','P'])\n",
    "\n",
    "# Put the system into a given state\n",
    "state = (0,0,0)\n",
    "nodes = ['R','C','P']\n",
    "subsystem = pyphi.Subsystem(network, state, nodes)\n",
    "\n",
    "# Get the cause repetoire for the mechanism over the purview\n",
    "R,C,P = subsystem.node_indices\n",
    "# print(subsystem.state)\n",
    "mechanism = (C,)\n",
    "purview = (R,P)\n",
    "cr = subsystem.effect_repertoire(mechanism,purview)\n",
    "flat_cr = pyphi.distribution.flatten(cr)  # returns 1d array in little endian convention\n",
    "print(flat_cr)\n",
    "\n",
    "mip = subsystem.effect_mip(mechanism,purview)\n",
    "print(mip)"
   ]
  },
  {
   "cell_type": "code",
   "execution_count": 29,
   "metadata": {},
   "outputs": [
    {
     "name": "stdout",
     "output_type": "stream",
     "text": [
      "[(), ('R',), ('C',), ('P',), ('R', 'C'), ('R', 'P'), ('C', 'P'), ('R', 'C', 'P')]\n",
      "[]\n"
     ]
    }
   ],
   "source": [
    "ps = pyphi.utils.powerset(['R','C','P'])\n",
    "print(list(ps))\n",
    "print(list(ps))\n",
    "# for each in ps:\n",
    "#     print(each)"
   ]
  },
  {
   "cell_type": "code",
   "execution_count": 22,
   "metadata": {},
   "outputs": [
    {
     "data": {
      "text/plain": [
       "[]"
      ]
     },
     "execution_count": 22,
     "metadata": {},
     "output_type": "execute_result"
    }
   ],
   "source": [
    "list(ps)"
   ]
  },
  {
   "cell_type": "code",
   "execution_count": null,
   "metadata": {},
   "outputs": [],
   "source": []
  }
 ],
 "metadata": {
  "kernelspec": {
   "display_name": "Python 3",
   "language": "python",
   "name": "python3"
  },
  "language_info": {
   "codemirror_mode": {
    "name": "ipython",
    "version": 3
   },
   "file_extension": ".py",
   "mimetype": "text/x-python",
   "name": "python",
   "nbconvert_exporter": "python",
   "pygments_lexer": "ipython3",
   "version": "3.7.4"
  }
 },
 "nbformat": 4,
 "nbformat_minor": 2
}
