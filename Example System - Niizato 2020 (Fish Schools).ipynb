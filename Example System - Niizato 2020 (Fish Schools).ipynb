{
 "cells": [
  {
   "cell_type": "markdown",
   "metadata": {},
   "source": [
    "## Notebook to examine Niizato 2020 results"
   ]
  },
  {
   "cell_type": "code",
   "execution_count": null,
   "metadata": {},
   "outputs": [
    {
     "name": "stderr",
     "output_type": "stream",
     "text": [
      "\r",
      "Computing concepts:   0%|          | 0/31 [00:00<?, ?it/s]"
     ]
    },
    {
     "name": "stdout",
     "output_type": "stream",
     "text": [
      "Network =  NodeLabels(('A', 'B', 'C', 'D', 'E'))\n"
     ]
    },
    {
     "name": "stderr",
     "output_type": "stream",
     "text": [
      "                                                                   \r"
     ]
    },
    {
     "name": "stdout",
     "output_type": "stream",
     "text": [
      "PyPhi Value =  5.784277\n",
      "\tNumber of Non-unique Constellations = 2\n",
      "\n",
      "Evaluating Cut  Cut [A] ━━/ /━━➤ [B, C, D, E]\n",
      "\tNumber of Non-unique Constellations = 337920\n"
     ]
    }
   ],
   "source": [
    "import pyphi\n",
    "import numpy as np\n",
    "from pyphi import phi_spectrum\n",
    "from pyphi import utils\n",
    "import caffeine\n",
    "\n",
    "caffeine.on(display=True)\n",
    "\n",
    "# Transition probability matrix used in Niizato et al. Figure 6\n",
    "## Available as part of supplementary material: https://doi.org/10.1371/journal.pone.0229573.s012\n",
    "\n",
    "tpm = np.array([\n",
    "    [0.0000, 0.0000, 0.0000, 0.0000, 0.0000],\n",
    "    [0.0000, 0.0000, 0.0000, 0.0000, 0.0000],\n",
    "    [0.0000, 0.0000, 0.0000, 0.0000, 0.0000],\n",
    "    [0.0000, 0.0000, 0.0000, 0.0000, 0.0000],\n",
    "    [0.0000, 0.0000, 0.0000, 0.0000, 0.0000],\n",
    "    [0.0000, 0.0000, 0.0000, 0.0000, 0.0000],\n",
    "    [0.0000, 0.0000, 0.0000, 0.0000, 0.0000],\n",
    "    [0.0000, 0.0000, 0.0000, 0.0000, 0.0000],\n",
    "    [0.0000, 0.0000, 0.0000, 0.0000, 0.0000],\n",
    "    [0.0000, 0.0000, 0.0000, 0.0000, 0.0000],\n",
    "    [0.0000, 0.0000, 0.0000, 0.0000, 0.0000],\n",
    "    [1.0000, 1.0000, 0.0000, 1.0000, 0.3333],\n",
    "    [0.0000, 0.0000, 0.0000, 0.0000, 0.0000],\n",
    "    [1.0000, 0.5000, 1.0000, 1.0000, 0.0000],\n",
    "    [0.1667, 1.0000, 1.0000, 1.0000, 0.3333],\n",
    "    [0.9986, 1.0000, 0.9986, 1.0000, 0.0967],\n",
    "    [0.0000, 0.0000, 0.0000, 0.0000, 0.0000],\n",
    "    [0.0000, 0.0000, 0.0000, 0.0000, 0.0000],\n",
    "    [0.0000, 0.0000, 0.0000, 0.0000, 0.0000],\n",
    "    [0.0000, 0.0000, 0.0000, 0.0000, 0.0000],\n",
    "    [0.0000, 0.0000, 0.0000, 0.0000, 0.0000],\n",
    "    [1.0000, 0.0120, 1.0000, 0.0241, 1.0000],\n",
    "    [0.1429, 1.0000, 1.0000, 0.2143, 1.0000],\n",
    "    [0.9947, 0.9974, 1.0000, 0.1276, 1.0000],\n",
    "    [0.0000, 0.0000, 0.0000, 0.0000, 0.0000],\n",
    "    [1.0000, 0.5000, 1.0000, 1.0000, 1.0000],\n",
    "    [0.2500, 1.0000, 0.0000, 1.0000, 1.0000],\n",
    "    [1.0000, 0.9990, 0.1109, 1.0000, 1.0000],\n",
    "    [0.1818, 0.0909, 1.0000, 1.0000, 1.0000],\n",
    "    [0.9979, 0.1242, 0.9990, 0.9959, 0.9990],\n",
    "    [0.1091, 0.9975, 0.9995, 0.9995, 0.9995],\n",
    "    [0.9842, 0.9916, 0.9920, 0.9930, 0.9948]\n",
    "])\n",
    "\n",
    "# Set up network object\n",
    "network = pyphi.Network(tpm, node_labels=['A','B','C','D','E'])\n",
    "print(\"Network = \",network.node_labels)\n",
    "\n",
    "# Put the system into a given state\n",
    "## The highest Phi value is the all-on state, which is what we analyze here\n",
    "state = (1,1,1,1,1)\n",
    "nodes = ['A','B','C','D','E']\n",
    "\n",
    "## Get the requisite Subsystem\n",
    "subsystem = pyphi.Subsystem(network, state, nodes)\n",
    "\n",
    "## What does PyPhi Give?\n",
    "pyphi_val = pyphi.compute.phi(subsystem)\n",
    "print(\"PyPhi Value = \",pyphi_val)\n",
    "\n",
    "## Calculate all Phi values\n",
    "display_CES= False  # if True, output will display constellations\n",
    "Phi_Spectrum = phi_spectrum.get_phi_spectrum(subsystem,display_CES)\n",
    "\n",
    "print(\"\\nCuts = \",Phi_Spectrum[0])\n",
    "print(\"\\nPhi Spectrum = \",Phi_Spectrum[1])"
   ]
  },
  {
   "cell_type": "code",
   "execution_count": null,
   "metadata": {},
   "outputs": [],
   "source": []
  }
 ],
 "metadata": {
  "kernelspec": {
   "display_name": "Python 3",
   "language": "python",
   "name": "python3"
  },
  "language_info": {
   "codemirror_mode": {
    "name": "ipython",
    "version": 3
   },
   "file_extension": ".py",
   "mimetype": "text/x-python",
   "name": "python",
   "nbconvert_exporter": "python",
   "pygments_lexer": "ipython3",
   "version": "3.7.4"
  }
 },
 "nbformat": 4,
 "nbformat_minor": 2
}
