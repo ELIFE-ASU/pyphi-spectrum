{
 "cells": [
  {
   "cell_type": "markdown",
   "metadata": {},
   "source": [
    "## Notebook to get the Phi value for the Fission Yeast system in Marshall 2017"
   ]
  },
  {
   "cell_type": "code",
   "execution_count": null,
   "metadata": {},
   "outputs": [
    {
     "name": "stderr",
     "output_type": "stream",
     "text": [
      "/Users/jakehanson/.brew/lib/python3.7/site-packages/ipykernel_launcher.py:12: FutureWarning: read_table is deprecated, use read_csv instead, passing sep='\\t'.\n",
      "  if sys.path[0] == '':\n",
      "\r",
      "Computing concepts:   0%|          | 0/511 [00:00<?, ?it/s]"
     ]
    },
    {
     "name": "stdout",
     "output_type": "stream",
     "text": [
      "reading data\n",
      "\n",
      "system partitioned\n",
      "\n",
      "Network =  NodeLabels(('A', 'B', 'C', 'D', 'E', 'F', 'G', 'H', 'I'))\n"
     ]
    },
    {
     "name": "stderr",
     "output_type": "stream",
     "text": [
      "Computing concepts:  67%|██████▋   | 341/511 [2:19:41<6:00:15, 127.15s/it] "
     ]
    }
   ],
   "source": [
    "import numpy as np\n",
    "import pandas as pd\n",
    "import seaborn as sns\n",
    "import matplotlib.pyplot as plt\n",
    "import miniform\n",
    "import pyphi\n",
    "%matplotlib inline\n",
    "sns.set_style('dark')\n",
    "\n",
    "# Read in data\n",
    "print(\"reading data\\n\")\n",
    "df = pd.read_table('s_pombe_st_wild_encode.dat',header=None,names=['s1','s2'])\n",
    "N_states = np.size(df.index)\n",
    "\n",
    "# Get unique end states\n",
    "unique_ends = np.unique(df['s2'])\n",
    "\n",
    "# Partition the system based on invariant microstates\n",
    "sym_groups = {}\n",
    "for s in unique_ends:\n",
    "    group_list = df[df['s2']==s]['s1'].values\n",
    "    sym_groups[s] = group_list\n",
    "    \n",
    "    \n",
    "# Check to make sure system is partitioned\n",
    "counter = 0\n",
    "for group in sym_groups.keys():\n",
    "    counter = counter + np.size(sym_groups[group])\n",
    "if counter != N_states:\n",
    "    print(\"error - system not properly partitioned\")\n",
    "else:\n",
    "    print(\"system partitioned\\n\")\n",
    "    \n",
    "# Generate Microscopic TPM\n",
    "TPM = np.zeros((N_states,N_states))\n",
    "for s2 in sym_groups.keys():\n",
    "    for s1 in sym_groups[s2]:\n",
    "        TPM[s1][s2] = 1.\n",
    "        \n",
    "        \n",
    "# Set up network object\n",
    "network = pyphi.Network(TPM, node_labels=['A','B','C','D','E','F','G','H','I'])\n",
    "print(\"Network = \",network.node_labels)\n",
    "\n",
    "# Put the system into a given state\n",
    "state = (0,0,1,1,0,0,1,0,0)\n",
    "nodes = ['A','B','C','D','E','F','G','H','I']\n",
    "\n",
    "## Get the requisite Subsystem\n",
    "subsystem = pyphi.Subsystem(network, state, nodes)\n",
    "\n",
    "## What does PyPhi Give? Should be 0.125\n",
    "pyphi_val = pyphi.compute.phi(subsystem)\n",
    "print(\"PyPhi Value = \",pyphi_val)\n",
    "        \n",
    "        \n",
    "# print(TPM)"
   ]
  },
  {
   "cell_type": "code",
   "execution_count": null,
   "metadata": {},
   "outputs": [],
   "source": []
  }
 ],
 "metadata": {
  "kernelspec": {
   "display_name": "Python 3",
   "language": "python",
   "name": "python3"
  },
  "language_info": {
   "codemirror_mode": {
    "name": "ipython",
    "version": 3
   },
   "file_extension": ".py",
   "mimetype": "text/x-python",
   "name": "python",
   "nbconvert_exporter": "python",
   "pygments_lexer": "ipython3",
   "version": "3.7.4"
  }
 },
 "nbformat": 4,
 "nbformat_minor": 2
}
