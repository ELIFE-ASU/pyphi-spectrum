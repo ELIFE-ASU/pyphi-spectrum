{
 "cells": [
  {
   "cell_type": "code",
   "execution_count": 1,
   "metadata": {},
   "outputs": [
    {
     "name": "stderr",
     "output_type": "stream",
     "text": [
      "\r",
      "Computing concepts:   0%|          | 0/7 [00:00<?, ?it/s]"
     ]
    },
    {
     "name": "stdout",
     "output_type": "stream",
     "text": [
      "Network =  NodeLabels(('Q1', 'Q2', 'Q3'))\n"
     ]
    },
    {
     "name": "stderr",
     "output_type": "stream",
     "text": [
      "                                                                \r"
     ]
    },
    {
     "name": "stdout",
     "output_type": "stream",
     "text": [
      "PyPhi Value =  0.25\n",
      "\tNumber of Non-unique Constellations = 3888\n",
      "\n",
      "Evaluating Cut  Cut [Q1] ━━/ /━━➤ [Q2, Q3]\n",
      "\tNumber of Non-unique Constellations = 18\n",
      "\n",
      "Evaluating Cut  Cut [Q2] ━━/ /━━➤ [Q1, Q3]\n",
      "\tNumber of Non-unique Constellations = 12\n",
      "\n",
      "Evaluating Cut  Cut [Q1, Q2] ━━/ /━━➤ [Q3]\n",
      "\tNumber of Non-unique Constellations = 576\n",
      "\n",
      "Evaluating Cut  Cut [Q3] ━━/ /━━➤ [Q1, Q2]\n",
      "\tNumber of Non-unique Constellations = 1296\n",
      "\n",
      "Evaluating Cut  Cut [Q1, Q3] ━━/ /━━➤ [Q2]\n",
      "\tNumber of Non-unique Constellations = 36\n",
      "\n",
      "Evaluating Cut  Cut [Q2, Q3] ━━/ /━━➤ [Q1]\n",
      "\tNumber of Non-unique Constellations = 72\n",
      "\n",
      "Cuts =  [Cut [Q1] ━━/ /━━➤ [Q2, Q3], Cut [Q2] ━━/ /━━➤ [Q1, Q3], Cut [Q1, Q2] ━━/ /━━➤ [Q3], Cut [Q3] ━━/ /━━➤ [Q1, Q2], Cut [Q1, Q3] ━━/ /━━➤ [Q2], Cut [Q2, Q3] ━━/ /━━➤ [Q1]]\n",
      "\n",
      "Phi Spectrum =  [[1.25], [1.0], [0.25], [0.75], [1.0], [0.75]]\n"
     ]
    }
   ],
   "source": [
    "import pyphi\n",
    "import caffeine\n",
    "import numpy as np\n",
    "from pyphi import phi_spectrum\n",
    "\n",
    "caffeine.on(display=True)\n",
    "\n",
    "# Transition probability matrix used in Hanson and Walker 2020 Figure 4\n",
    "\n",
    "## Little End TPM. \n",
    "tpm = np.array([\n",
    "    [1,1,0],\n",
    "    [0,0,0],\n",
    "    [1,0,1],\n",
    "    [0,1,0],\n",
    "    [1,0,0],\n",
    "    [1,1,1],\n",
    "    [0,0,1],\n",
    "    [0,1,1]\n",
    "])\n",
    "\n",
    "# Set up network object\n",
    "network = pyphi.Network(tpm, node_labels=['Q1','Q2','Q3'])\n",
    "print(\"Network = \",network.node_labels)\n",
    "\n",
    "# Put the system into a given state\n",
    "state = (1,0,1)\n",
    "nodes = ['Q1','Q2','Q3']\n",
    "\n",
    "## Get the requisite Subsystem\n",
    "subsystem = pyphi.Subsystem(network, state, nodes)\n",
    "\n",
    "## What does PyPhi Give? Should be 0.125\n",
    "pyphi_val = pyphi.compute.phi(subsystem)\n",
    "print(\"PyPhi Value = \",pyphi_val)\n",
    "\n",
    "## Calculate all Phi values\n",
    "display_CES= False  # if True, output will display constellations\n",
    "Phi_Spectrum = phi_spectrum.get_phi_spectrum(subsystem,display_CES)\n",
    "\n",
    "print(\"\\nCuts = \",Phi_Spectrum[0])\n",
    "print(\"\\nPhi Spectrum = \",Phi_Spectrum[1])"
   ]
  },
  {
   "cell_type": "code",
   "execution_count": 3,
   "metadata": {},
   "outputs": [
    {
     "name": "stdout",
     "output_type": "stream",
     "text": [
      "Phi MIP =  [0.25]\n",
      "1\n",
      "Results Saved\n"
     ]
    }
   ],
   "source": [
    "Phi_MIP = phi_spectrum.get_Phi_MIP(Phi_Spectrum)\n",
    "print(\"Phi MIP = \",Phi_MIP)\n",
    "print(len(Phi_MIP))\n",
    "# np.savetxt(\"KO17/results/phi_spectrum_hanson_100.csv\", Phi_MIP, delimiter=\",\")\n",
    "# print(\"Results Saved\")"
   ]
  },
  {
   "cell_type": "code",
   "execution_count": null,
   "metadata": {},
   "outputs": [],
   "source": []
  }
 ],
 "metadata": {
  "kernelspec": {
   "display_name": "Python 3",
   "language": "python",
   "name": "python3"
  },
  "language_info": {
   "codemirror_mode": {
    "name": "ipython",
    "version": 3
   },
   "file_extension": ".py",
   "mimetype": "text/x-python",
   "name": "python",
   "nbconvert_exporter": "python",
   "pygments_lexer": "ipython3",
   "version": "3.7.4"
  }
 },
 "nbformat": 4,
 "nbformat_minor": 2
}
