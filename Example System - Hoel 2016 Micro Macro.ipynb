{
 "cells": [
  {
   "cell_type": "markdown",
   "metadata": {},
   "source": [
    "## Notebook to calculate the spectrum of $\\Phi$ values for Hoel 2016 Figure 4 (COPY+COPY+COPY)"
   ]
  },
  {
   "cell_type": "code",
   "execution_count": 2,
   "metadata": {},
   "outputs": [
    {
     "name": "stderr",
     "output_type": "stream",
     "text": [
      "\r",
      "Computing concepts:   0%|          | 0/7 [00:00<?, ?it/s]"
     ]
    },
    {
     "name": "stdout",
     "output_type": "stream",
     "text": [
      "Network =  NodeLabels(('A', 'B', 'C'))\n"
     ]
    },
    {
     "name": "stderr",
     "output_type": "stream",
     "text": [
      "                                                                 \r"
     ]
    },
    {
     "name": "stdout",
     "output_type": "stream",
     "text": [
      "PyPhi Value =  1.0\n",
      "\tNumber of Non-unique Constellations = 1\n",
      "\n",
      "Evaluating Cut  Cut [A] ━━/ /━━➤ [B, C]\n",
      "\tNumber of Non-unique Constellations = 1\n",
      "\tPhi Values for Cut =  [1.0]\n",
      "\n",
      "Evaluating Cut  Cut [B] ━━/ /━━➤ [A, C]\n",
      "\tNumber of Non-unique Constellations = 1\n",
      "\tPhi Values for Cut =  [1.0]\n",
      "\n",
      "Evaluating Cut  Cut [A, B] ━━/ /━━➤ [C]\n",
      "\tNumber of Non-unique Constellations = 1\n",
      "\tPhi Values for Cut =  [1.0]\n",
      "\n",
      "Evaluating Cut  Cut [C] ━━/ /━━➤ [A, B]\n",
      "\tNumber of Non-unique Constellations = 1\n",
      "\tPhi Values for Cut =  [1.0]\n",
      "\n",
      "Evaluating Cut  Cut [A, C] ━━/ /━━➤ [B]\n",
      "\tNumber of Non-unique Constellations = 1\n",
      "\tPhi Values for Cut =  [1.0]\n",
      "\n",
      "Evaluating Cut  Cut [B, C] ━━/ /━━➤ [A]\n",
      "\tNumber of Non-unique Constellations = 1\n",
      "\tPhi Values for Cut =  [1.0]\n",
      "\n",
      "Cuts =  [Cut [A] ━━/ /━━➤ [B, C], Cut [B] ━━/ /━━➤ [A, C], Cut [A, B] ━━/ /━━➤ [C], Cut [C] ━━/ /━━➤ [A, B], Cut [A, C] ━━/ /━━➤ [B], Cut [B, C] ━━/ /━━➤ [A]]\n",
      "\n",
      "Phi Spectrum =  [[1.0], [1.0], [1.0], [1.0], [1.0], [1.0]]\n"
     ]
    }
   ],
   "source": [
    "import pyphi\n",
    "import numpy as np\n",
    "from pyphi import phi_spectrum\n",
    "\n",
    "# Transition probability matrix used in Hanson and Walker 2020 Figure 4\n",
    "\n",
    "## Little Endian TPM. \n",
    "tpm = np.array([\n",
    "    [0,0,0],\n",
    "    [0,1,0],\n",
    "    [0,0,1],\n",
    "    [0,1,1],\n",
    "    [1,0,0],\n",
    "    [1,1,0],\n",
    "    [1,0,1],\n",
    "    [1,1,1]\n",
    "])\n",
    "\n",
    "# Set up network object\n",
    "network = pyphi.Network(tpm, node_labels=['A','B','C'])\n",
    "print(\"Network = \",network.node_labels)\n",
    "\n",
    "# Put the system into a given state\n",
    "state = (0,0,0)\n",
    "nodes = ['A','B','C']\n",
    "\n",
    "## Get the requisite Subsystem\n",
    "subsystem = pyphi.Subsystem(network, state, nodes)\n",
    "\n",
    "## What does PyPhi Give? Should be 0.125\n",
    "pyphi_val = pyphi.compute.phi(subsystem)\n",
    "print(\"PyPhi Value = \",pyphi_val)\n",
    "\n",
    "## Calculate all Phi values\n",
    "display_CES= False  # if True, output will display constellations\n",
    "Phi_Spectrum = phi_spectrum.get_phi_spectrum(subsystem,display_CES)\n",
    "\n",
    "print(\"\\nCuts = \",Phi_Spectrum[0])\n",
    "print(\"\\nPhi Spectrum = \",Phi_Spectrum[1])"
   ]
  },
  {
   "cell_type": "code",
   "execution_count": null,
   "metadata": {},
   "outputs": [],
   "source": []
  }
 ],
 "metadata": {
  "kernelspec": {
   "display_name": "Python 3",
   "language": "python",
   "name": "python3"
  },
  "language_info": {
   "codemirror_mode": {
    "name": "ipython",
    "version": 3
   },
   "file_extension": ".py",
   "mimetype": "text/x-python",
   "name": "python",
   "nbconvert_exporter": "python",
   "pygments_lexer": "ipython3",
   "version": "3.6.5"
  }
 },
 "nbformat": 4,
 "nbformat_minor": 2
}
