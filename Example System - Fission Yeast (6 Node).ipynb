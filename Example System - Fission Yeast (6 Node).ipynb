{
 "cells": [
  {
   "cell_type": "code",
   "execution_count": null,
   "metadata": {},
   "outputs": [
    {
     "name": "stdout",
     "output_type": "stream",
     "text": [
      "reading data\n",
      "\n",
      "system partitioned\n",
      "\n"
     ]
    },
    {
     "name": "stderr",
     "output_type": "stream",
     "text": [
      "/Users/jakehanson/.brew/lib/python3.7/site-packages/ipykernel_launcher.py:8: FutureWarning: read_table is deprecated, use read_csv instead, passing sep='\\t'.\n",
      "  \n",
      "Computing concepts:   0%|          | 0/63 [00:00<?, ?it/s]"
     ]
    },
    {
     "name": "stdout",
     "output_type": "stream",
     "text": [
      "Network =  NodeLabels(('SK', 'Cdc2/13', 'Ste9', 'Rum1', 'Slp1', 'Cdc2/13*', 'Wee1', 'Cdc25', 'PP'))\n"
     ]
    },
    {
     "name": "stderr",
     "output_type": "stream",
     "text": [
      "Evaluating Φ cuts:  18%|█▊        | 11/62 [02:05<06:59,  8.23s/it] "
     ]
    }
   ],
   "source": [
    "import pyphi\n",
    "import numpy as np\n",
    "import pandas as pd\n",
    "from pyphi import phi_spectrum\n",
    "\n",
    "# Read in data\n",
    "print(\"reading data\\n\")\n",
    "df = pd.read_table('s_pombe_st_wild_encode.dat',header=None,names=['s1','s2'])\n",
    "N_states = np.size(df.index)\n",
    "\n",
    "# Get unique end states\n",
    "unique_ends = np.unique(df['s2'])\n",
    "\n",
    "# Partition the system based on invariant microstates\n",
    "sym_groups = {}\n",
    "for s in unique_ends:\n",
    "    group_list = df[df['s2']==s]['s1'].values\n",
    "    sym_groups[s] = group_list\n",
    "    \n",
    "    \n",
    "# Check to make sure system is partitioned\n",
    "counter = 0\n",
    "for group in sym_groups.keys():\n",
    "    counter = counter + np.size(sym_groups[group])\n",
    "if counter != N_states:\n",
    "    print(\"error - system not properly partitioned\")\n",
    "else:\n",
    "    print(\"system partitioned\\n\")\n",
    "    \n",
    "# Generate Microscopic TPM\n",
    "TPM = np.zeros((N_states,N_states))\n",
    "for s2 in sym_groups.keys():\n",
    "    for s1 in sym_groups[s2]:\n",
    "        TPM[s1][s2] = 1.\n",
    "        \n",
    "        \n",
    "# Set up network object\n",
    "network = pyphi.Network(TPM, node_labels=['SK','Cdc2/13','Ste9','Rum1','Slp1','Cdc2/13*','Wee1','Cdc25','PP'])\n",
    "print(\"Network = \",network.node_labels)\n",
    "\n",
    "# Put the system into a given state\n",
    "state = (0,0,1,1,0,0,1,0,0)\n",
    "nodes = ['Cdc2/13','Ste9','Rum1','Cdc2/13*','Wee1','Cdc25']\n",
    "\n",
    "## Get the requisite Subsystem\n",
    "subsystem = pyphi.Subsystem(network, state, nodes)\n",
    "\n",
    "## What does PyPhi Give? Should be 0.09\n",
    "pyphi_val = pyphi.compute.phi(subsystem)\n",
    "print(\"PyPhi Value = \",pyphi_val)\n",
    "        \n",
    "## Calculate all Phi values\n",
    "display_CES= False  # if True, output will display constellations\n",
    "Phi_Spectrum = phi_spectrum.get_phi_spectrum(subsystem,display_CES)\n",
    "\n",
    "print(\"\\nCuts = \",Phi_Spectrum[0])\n",
    "print(\"\\nPhi Spectrum = \",Phi_Spectrum[1])"
   ]
  },
  {
   "cell_type": "code",
   "execution_count": null,
   "metadata": {},
   "outputs": [],
   "source": []
  }
 ],
 "metadata": {
  "kernelspec": {
   "display_name": "Python 3",
   "language": "python",
   "name": "python3"
  },
  "language_info": {
   "codemirror_mode": {
    "name": "ipython",
    "version": 3
   },
   "file_extension": ".py",
   "mimetype": "text/x-python",
   "name": "python",
   "nbconvert_exporter": "python",
   "pygments_lexer": "ipython3",
   "version": "3.7.4"
  }
 },
 "nbformat": 4,
 "nbformat_minor": 2
}
