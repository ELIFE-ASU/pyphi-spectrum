{
 "cells": [
  {
   "cell_type": "markdown",
   "metadata": {},
   "source": [
    "## Notebook to calculate the spectrum of $\\Phi$ values for Gomez et al. 2021 (Fauré-Kaji Model )"
   ]
  },
  {
   "cell_type": "code",
   "execution_count": 2,
   "metadata": {},
   "outputs": [
    {
     "name": "stderr",
     "output_type": "stream",
     "text": [
      "\r",
      "Computing concepts:   0%|          | 0/15 [00:00<?, ?it/s]"
     ]
    },
    {
     "name": "stdout",
     "output_type": "stream",
     "text": [
      "Network =  NodeLabels(('P1', 'P2', 'Mc', 'Mn'))\n"
     ]
    },
    {
     "name": "stderr",
     "output_type": "stream",
     "text": [
      "                                                                  \r"
     ]
    },
    {
     "name": "stdout",
     "output_type": "stream",
     "text": [
      "PyPhi Value =  0.215278\n",
      "\tNumber of Non-unique Constellations = 9\n",
      "\n",
      "Evaluating Cut  Cut [P1] ━━/ /━━➤ [P2, Mc, Mn]\n",
      "\tNumber of Non-unique Constellations = 3\n",
      "\n",
      "Evaluating Cut  Cut [P2] ━━/ /━━➤ [P1, Mc, Mn]\n",
      "\tNumber of Non-unique Constellations = 3\n",
      "\n",
      "Evaluating Cut  Cut [Mc] ━━/ /━━➤ [P1, P2, Mn]\n",
      "\tNumber of Non-unique Constellations = 9\n",
      "\n",
      "Evaluating Cut  Cut [Mn] ━━/ /━━➤ [P1, P2, Mc]\n",
      "\tNumber of Non-unique Constellations = 3\n",
      "\n",
      "Evaluating Cut  Cut [P2, Mc, Mn] ━━/ /━━➤ [P1]\n",
      "\tNumber of Non-unique Constellations = 3\n",
      "\n",
      "Evaluating Cut  Cut [P1, Mc, Mn] ━━/ /━━➤ [P2]\n",
      "\tNumber of Non-unique Constellations = 3\n",
      "\n",
      "Evaluating Cut  Cut [P1, P2, Mn] ━━/ /━━➤ [Mc]\n",
      "\tNumber of Non-unique Constellations = 3\n",
      "\n",
      "Evaluating Cut  Cut [P1, P2, Mc] ━━/ /━━➤ [Mn]\n",
      "\tNumber of Non-unique Constellations = 1\n",
      "\n",
      "Cuts =  [Cut [P1] ━━/ /━━➤ [P2, Mc, Mn], Cut [P2] ━━/ /━━➤ [P1, Mc, Mn], Cut [Mc] ━━/ /━━➤ [P1, P2, Mn], Cut [Mn] ━━/ /━━➤ [P1, P2, Mc], Cut [P2, Mc, Mn] ━━/ /━━➤ [P1], Cut [P1, Mc, Mn] ━━/ /━━➤ [P2], Cut [P1, P2, Mn] ━━/ /━━➤ [Mc], Cut [P1, P2, Mc] ━━/ /━━➤ [Mn]]\n",
      "\n",
      "Phi Spectrum =  [[0.243056, 0.543056, 0.393055, 0.1875, 0.4875, 0.3375, 0.215278, 0.515278, 0.365278], [0.1875, 0.4875, 0.3375, 0.243056, 0.543056, 0.393055, 0.215278, 0.515278, 0.365278], [0.290278, 0.370278, 0.340278, 0.390278, 0.300278, 0.380278, 0.350278, 0.440278, 0.450278, 0.400278, 0.318055, 0.398055, 0.368055, 0.328056, 0.401389, 0.378055, 0.468056, 0.418056, 0.478056, 0.428055], [0.615, 0.670556, 0.642778, 0.765, 0.820556, 0.792778], [0.4875, 0.543056, 0.515278, 0.1875, 0.243056, 0.215278, 0.3375, 0.393055, 0.365278], [0.1875, 0.243056, 0.215278, 0.4875, 0.543056, 0.515278, 0.3375, 0.393055, 0.365278], [0.371528, 0.671529, 0.521528, 0.399305, 0.699306, 0.549306, 0.549305], [0.330278, 0.480278, 0.358056, 0.508056]]\n"
     ]
    }
   ],
   "source": [
    "import pyphi\n",
    "import numpy as np\n",
    "from pyphi import phi_spectrum\n",
    "from pyphi import utils\n",
    "\n",
    "# Transition probability matrix used in Gomez et al 2021\n",
    "\n",
    "## Little Endian TPM. \n",
    "tpm = np.array([\n",
    "    [1,1,0,1],\n",
    "    [1,1,0,0],\n",
    "    [1,1,0,0],\n",
    "    [1,1,1,0],\n",
    "    [1,1,0,1],\n",
    "    [1,1,0,1],\n",
    "    [1,1,0,1],\n",
    "    [1,1,1,1],\n",
    "    [0,0,0,1],\n",
    "    [0,0,0,0],\n",
    "    [0,0,0,0],\n",
    "    [0,0,1,0],\n",
    "    [0,0,0,1],\n",
    "    [0,0,0,1],\n",
    "    [0,0,0,1],\n",
    "    [0,0,1,1]\n",
    "])\n",
    "\n",
    "# Set up network object\n",
    "network = pyphi.Network(tpm, node_labels=['P1','P2','Mc','Mn'])\n",
    "print(\"Network = \",network.node_labels)\n",
    "\n",
    "# Put the system into a given state\n",
    "state = (0,0,0,1)\n",
    "nodes = ['P1','P2','Mc','Mn']\n",
    "\n",
    "## Get the requisite Subsystem\n",
    "subsystem = pyphi.Subsystem(network, state, nodes)\n",
    "\n",
    "## What does PyPhi Give? Should be 0.125\n",
    "pyphi_val = pyphi.compute.phi(subsystem)\n",
    "print(\"PyPhi Value = \",pyphi_val)\n",
    "\n",
    "## Calculate all Phi values\n",
    "display_CES= False  # if True, output will display constellations\n",
    "Phi_Spectrum = phi_spectrum.get_phi_spectrum(subsystem,display_CES)\n",
    "\n",
    "print(\"\\nCuts = \",Phi_Spectrum[0])\n",
    "print(\"\\nPhi Spectrum = \",Phi_Spectrum[1])"
   ]
  },
  {
   "cell_type": "code",
   "execution_count": 3,
   "metadata": {},
   "outputs": [
    {
     "name": "stdout",
     "output_type": "stream",
     "text": [
      "Phi MIP =  [0.1875   0.215278 0.243056 0.290278 0.300278 0.318055 0.328056 0.330278\n",
      " 0.3375   0.340278 0.350278 0.358056 0.365278 0.368055 0.370278 0.371528\n",
      " 0.378055 0.380278 0.390278 0.393055 0.398055 0.399305 0.400278 0.401389\n",
      " 0.418056 0.428055 0.440278 0.450278 0.468056 0.478056 0.480278 0.4875\n",
      " 0.508056 0.515278 0.521528 0.543056]\n"
     ]
    }
   ],
   "source": [
    "Phi_MIP = phi_spectrum.get_Phi_MIP(Phi_Spectrum)\n",
    "print(\"Phi MIP = \",Phi_MIP)"
   ]
  },
  {
   "cell_type": "code",
   "execution_count": 4,
   "metadata": {},
   "outputs": [
    {
     "name": "stdout",
     "output_type": "stream",
     "text": [
      "/Users/jakehanson/.brew/lib/python3.7/site-packages/matplotlib/mpl-data/fonts/ttf/DejaVuSans-Oblique.ttf DejaVu Sans\n",
      "/Users/jakehanson/.brew/lib/python3.7/site-packages/matplotlib/mpl-data/fonts/ttf/DejaVuSans.ttf DejaVu Sans\n",
      "/Users/jakehanson/.brew/lib/python3.7/site-packages/matplotlib/mpl-data/fonts/ttf/DejaVuSansMono.ttf DejaVu Sans Mono\n",
      "/Users/jakehanson/.brew/lib/python3.7/site-packages/matplotlib/mpl-data/fonts/ttf/DejaVuSans-Bold.ttf DejaVu Sans\n",
      "/Users/jakehanson/.brew/lib/python3.7/site-packages/matplotlib/mpl-data/fonts/ttf/DejaVuSansMono-Bold.ttf DejaVu Sans Mono\n",
      "/Users/jakehanson/.brew/lib/python3.7/site-packages/matplotlib/mpl-data/fonts/ttf/DejaVuSans-BoldOblique.ttf DejaVu Sans\n",
      "/Library/Fonts/AppleGothic.ttf AppleGothic\n",
      "/System/Library/Fonts/LastResort.ttf .LastResort\n",
      "/System/Library/Fonts/ZapfDingbats.ttf Zapf Dingbats\n",
      "/Library/Fonts/AppleMyungjo.ttf AppleMyungjo\n",
      "/Library/Fonts/Arial Unicode.ttf Arial Unicode MS\n"
     ]
    }
   ],
   "source": [
    "from fontTools.ttLib import TTFont\n",
    "import matplotlib.font_manager as mfm\n",
    "\n",
    "## Choose a font that renders the cut symbol properly\n",
    "def char_in_font(Unicode_char, font):\n",
    "    for cmap in font['cmap'].tables:\n",
    "        if cmap.isUnicode():\n",
    "            if ord(Unicode_char) in cmap.cmap:\n",
    "                return True\n",
    "    return False\n",
    "\n",
    "\n",
    "uni_char = \"\\u27A4\"\n",
    "\n",
    "font_info = [(f.fname, f.name) for f in mfm.fontManager.ttflist]\n",
    "for i, font in enumerate(font_info):\n",
    "    if char_in_font(uni_char, TTFont(font[0], fontNumber=0)):\n",
    "        print(font[0], font[1])"
   ]
  },
  {
   "cell_type": "code",
   "execution_count": 14,
   "metadata": {},
   "outputs": [
    {
     "data": {
      "image/png": "[encoded data removed]",
      "text/plain": [
       "<Figure size 633.6x388.8 with 1 Axes>"
      ]
     },
     "metadata": {
      "needs_background": "light"
     },
     "output_type": "display_data"
    }
   ],
   "source": [
    "# -*- coding: utf-8 -*-\n",
    "import matplotlib.pyplot as plt\n",
    "import seaborn as sns\n",
    "from pyphi import models\n",
    "sns.set_style('darkgrid')\n",
    "%matplotlib inline\n",
    "\n",
    "## UTF Characters\n",
    "LINE = \"\\u2501\"\n",
    "CUT_SYMBOL = LINE * 2 + \"/ /\" + LINE * 2 + \"\\u27A4\"\n",
    "\n",
    "## Set Font\n",
    "# font_path = '/usr/local/lib/python3.6/site-packages/matplotlib/mpl-data/fonts/ttf/DejaVuSans.ttf'\n",
    "font_path = '/Users/jakehanson/.brew/lib/python3.7/site-packages/matplotlib/mpl-data/fonts/ttf/DejaVuSans.ttf'\n",
    "font = mfm.FontProperties(fname=font_path) # find this font\n",
    "\n",
    "## Initialize fig, ax objects\n",
    "fig = plt.figure(figsize=(8.8,5.4))\n",
    "ax = plt.subplot(111)\n",
    "\n",
    "## Plot published value and possible values\n",
    "plt.plot([0],pyphi_val,'kx',label=r'Published Value')\n",
    "ax.axhspan(np.min(Phi_MIP), np.max(Phi_MIP), alpha=0.15,color='black',label='Possible Values')\n",
    "# ax.axhspan(np.min(Phi_MIP), np.max(Phi_MIP), alpha=0.15,color='black',label='Possible $\\Phi^{Max}$ Values')\n",
    "\n",
    "## Scatterplot Phi Values for each cut\n",
    "x_labels = []\n",
    "for i in range(len(Phi_Spectrum[0])):\n",
    "    cut = Phi_Spectrum[0][i]\n",
    "    \n",
    "    ## Get label for cut\n",
    "    from_nodes = models.fmt.fmt_mechanism(cut.from_nodes, cut.node_labels)\n",
    "    to_nodes = models.fmt.fmt_mechanism(cut.to_nodes, cut.node_labels)\n",
    "    cut_label = from_nodes+CUT_SYMBOL+to_nodes\n",
    "    \n",
    "    ## Plot\n",
    "    plt.scatter([i]*len(Phi_Spectrum[1][i]),Phi_Spectrum[1][i],alpha=0.5)\n",
    "    x_labels.append(cut_label)\n",
    "    \n",
    "## Clean Up\n",
    "plt.title(r'Gomez et al. 2021 (Faur$\\acute{e}$-Kaji Model)')\n",
    "plt.ylabel(r'$\\Phi$ Value(s)',fontsize=12)\n",
    "plt.xticks(range(len(Phi_Spectrum[0])),x_labels,rotation=90,fontproperties=font)\n",
    "# plt.ylim((0.0,1.0))\n",
    "plt.legend()\n",
    "# plt.legend(ncol=1,bbox_to_anchor = [1.25,1.0],prop=font,fontsize=12)\n",
    "plt.tight_layout()\n",
    "# plt.savefig(\"Gomez_2020.pdf\")\n",
    "plt.show()"
   ]
  },
  {
   "cell_type": "code",
   "execution_count": null,
   "metadata": {},
   "outputs": [],
   "source": []
  }
 ],
 "metadata": {
  "kernelspec": {
   "display_name": "Python 3",
   "language": "python",
   "name": "python3"
  },
  "language_info": {
   "codemirror_mode": {
    "name": "ipython",
    "version": 3
   },
   "file_extension": ".py",
   "mimetype": "text/x-python",
   "name": "python",
   "nbconvert_exporter": "python",
   "pygments_lexer": "ipython3",
   "version": "3.7.4"
  }
 },
 "nbformat": 4,
 "nbformat_minor": 2
}
